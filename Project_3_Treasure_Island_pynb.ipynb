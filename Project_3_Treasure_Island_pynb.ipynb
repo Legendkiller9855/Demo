{
  "nbformat": 4,
  "nbformat_minor": 0,
  "metadata": {
    "colab": {
      "provenance": [],
      "authorship_tag": "ABX9TyOPbSZKntZF08mPZwC9ZuAd",
      "include_colab_link": true
    },
    "kernelspec": {
      "name": "python3",
      "display_name": "Python 3"
    },
    "language_info": {
      "name": "python"
    }
  },
  "cells": [
    {
      "cell_type": "markdown",
      "metadata": {
        "id": "view-in-github",
        "colab_type": "text"
      },
      "source": [
        "<a href=\"https://colab.research.google.com/github/Legendkiller9855/python-development-journey/blob/main/Project_3_Treasure_Island_pynb.ipynb\" target=\"_parent\"><img src=\"https://colab.research.google.com/assets/colab-badge.svg\" alt=\"Open In Colab\"/></a>"
      ]
    },
    {
      "cell_type": "code",
      "execution_count": 7,
      "metadata": {
        "colab": {
          "base_uri": "https://localhost:8080/"
        },
        "id": "9azsLb5CssrG",
        "outputId": "37a10912-2518-46b3-884b-fcb85e6f0493"
      },
      "outputs": [
        {
          "output_type": "stream",
          "name": "stdout",
          "text": [
            "Welcome to the Treasure Island!Your mission is to find the Treasure.\n",
            "Which path do you want to select left or right?left\n",
            "You have to swim or wait.wait\n",
            "Wait for 3 minutes for the boat\n",
            "red , blue , yellowred\n",
            "GAME OVER\n"
          ]
        }
      ],
      "source": [
        "print(\"Welcome to the Treasure Island!Your mission is to find the Treasure.\")\n",
        "path_selected = input(\"Which path do you want to select left or right?\").lower()\n",
        "if path_selected == \"left\":\n",
        "  step_took = input(\"You have to swim or wait.\").lower()\n",
        "  if step_took == \"swim\":\n",
        "    print(\"GAME OVER\")\n",
        "  else:\n",
        "    print(\"Wait for 3 minutes for the boat\")\n",
        "    door_selected = input(\"red , blue , yellow\").lower()\n",
        "    if door_selected == \"red\" or door_selected == \"yellow\":\n",
        "      print(\"GAME OVER\")\n",
        "    else:\n",
        "      print(\"YOU WON TREASURE\")\n",
        "else:\n",
        "  print(\"GAME OVER\")"
      ]
    }
  ]
}