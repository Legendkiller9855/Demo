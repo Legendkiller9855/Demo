{
  "nbformat": 4,
  "nbformat_minor": 0,
  "metadata": {
    "colab": {
      "provenance": [],
      "authorship_tag": "ABX9TyPhPCi+9UxEnjkoFbyFbniJ",
      "include_colab_link": true
    },
    "kernelspec": {
      "name": "python3",
      "display_name": "Python 3"
    },
    "language_info": {
      "name": "python"
    }
  },
  "cells": [
    {
      "cell_type": "markdown",
      "metadata": {
        "id": "view-in-github",
        "colab_type": "text"
      },
      "source": [
        "<a href=\"https://colab.research.google.com/github/Legendkiller9855/python-development-journey/blob/main/Project_8_Caesar_Cipher.ipynb\" target=\"_parent\"><img src=\"https://colab.research.google.com/assets/colab-badge.svg\" alt=\"Open In Colab\"/></a>"
      ]
    },
    {
      "cell_type": "markdown",
      "source": [
        "**Using Function**"
      ],
      "metadata": {
        "id": "rCM0RSXOYpAs"
      }
    },
    {
      "cell_type": "code",
      "execution_count": null,
      "metadata": {
        "id": "7R1DgM_VYegR"
      },
      "outputs": [],
      "source": [
        "print(\"ENCODER\")\n",
        "alphabets = ['a', 'b', 'c', 'd', 'e', 'f', 'g', 'h', 'i', 'j', 'k', 'l', 'm', 'n', 'o', 'p', 'q', 'r', 's', 't', 'u', 'v', 'w', 'x', 'y', 'z']\n",
        "def encoder():\n",
        "  shift = int(input(\"Enter the shift value: \"))\n",
        "  original_text = input(\"Enter the text: \")\n",
        "  encoded_text = \"\"\n",
        "  for letter in original_text:\n",
        "    if letter in alphabets:\n",
        "      index = alphabets.index(letter)\n",
        "      new_index = index + shift\n",
        "      if new_index >= len(alphabets):\n",
        "        new_index -= len(alphabets)\n",
        "      encoded_text += alphabets[new_index]\n",
        "    else:\n",
        "      encoded_text += letter\n",
        "  print(f\"The encoded text is: {encoded_text}\")\n",
        "\n",
        "\n",
        "encoder()\n",
        "\n",
        "print(\"DECODER\")\n",
        "\n",
        "def decoder():\n",
        "  shift = int(input(\"Enter the shift value: \"))\n",
        "  original_text = input(\"Enter the encoded text: \")\n",
        "  decoded_text = \"\"\n",
        "  for letter in original_text:\n",
        "    if letter in alphabets:\n",
        "      index = alphabets.index(letter)\n",
        "      index = index - shift\n",
        "      if index < 0:\n",
        "        index += len(alphabets)\n",
        "      decoded_text += alphabets[index]\n",
        "    else:\n",
        "      decoded_text += letter\n",
        "  print(f\"The decoded text is: {decoded_text}\")\n",
        "\n",
        "decoder()"
      ]
    },
    {
      "cell_type": "markdown",
      "source": [
        "**Using input function technique**"
      ],
      "metadata": {
        "id": "R6Vs_Pv_YuFO"
      }
    },
    {
      "cell_type": "code",
      "source": [
        "#Using Function Input Technique\n",
        "print(\"ENCODER\")\n",
        "alphabets = ['a', 'b', 'c', 'd', 'e', 'f', 'g', 'h', 'i', 'j', 'k', 'l', 'm', 'n', 'o', 'p', 'q', 'r', 's', 't', 'u', 'v', 'w', 'x', 'y', 'z']\n",
        "original_text = input(\"Enter the text: \").lower()\n",
        "shift_value = int(input(\"Enter the shift value: \"))\n",
        "def encoder(original_text=\"Text\",shift_value=0):\n",
        "  encrypted_text = \"\"\n",
        "  for letter in original_text:\n",
        "    if letter in alphabets:\n",
        "      shifted_position = alphabets.index(letter) + shift_value\n",
        "      shifted_position %= len(alphabets)#Helps to keep the shifted position within the list(alphabet).\n",
        "      encrypted_text += alphabets[shifted_position]\n",
        "    else:\n",
        "      encrypted_text += letter\n",
        "  print(f\"The encrypted text is: {encrypted_text}\")\n",
        "\n",
        "encoder(original_text, shift_value)\n",
        "\n",
        "print(\"DECODER\")\n",
        "original_text = input(\"Enter the text: \").lower()\n",
        "shift_value = int(input(\"Enter the shift value: \"))\n",
        "\n",
        "def decoder(original_text=\"Text\",shift_value=0):\n",
        "  decrypted_text = \"\"\n",
        "  for letter in original_text:\n",
        "    if letter in alphabets:\n",
        "      shifted_position = alphabets.index(letter) - shift_value\n",
        "      shifted_position %= len(alphabets)#Helps to keep the shifted position within the list(alphabet).\n",
        "      decrypted_text += alphabets[shifted_position]\n",
        "    else:\n",
        "      decrypted_text += letter\n",
        "  print(f\"The decrypted text is: {decrypted_text}\")\n",
        "\n",
        "decoder(original_text, shift_value)\n"
      ],
      "metadata": {
        "id": "E0azlGneY0-m"
      },
      "execution_count": null,
      "outputs": []
    },
    {
      "cell_type": "markdown",
      "source": [
        "**Encoding and Decoding using a single code**"
      ],
      "metadata": {
        "id": "1GUoGwJ9Y-Yg"
      }
    },
    {
      "cell_type": "code",
      "source": [
        "#Encoding and Decoding the text using a single code.\n",
        "alphabets = ['a', 'b', 'c', 'd', 'e', 'f', 'g', 'h', 'i', 'j', 'k', 'l', 'm', 'n', 'o', 'p', 'q', 'r', 's', 't', 'u', 'v', 'w', 'x', 'y', 'z']\n",
        "original_text = input(\"Enter the text: \").lower()\n",
        "shift_value = int(input(\"Enter the shift value: \"))\n",
        "def caesar(original_text=\"Text\",shift_value=0,encoder_or_decoder=\"encoder\"):\n",
        "  output_text = \"\"\n",
        "  if encoder_or_decoder == \"decoder\":\n",
        "    shift_value *= -1   #Used to change the shift value to negative in case of decoder.\n",
        "  for letter in original_text:\n",
        "      shifted_position = alphabets.index(letter) + shift_value\n",
        "      shifted_position %= len(alphabets)#Helps to keep the shifted position within the list(alphabet).\n",
        "      output_text += alphabets[shifted_position]\n",
        "  print(f\"The output text is {output_text}\")\n",
        "\n",
        "#caesar(original_text , shift_value, encoder_or_decoder=\"encoder\")\n",
        "caesar(original_text, shift_value, encoder_or_decoder=\"decoder\")"
      ],
      "metadata": {
        "id": "WcxFbfRUZGAP"
      },
      "execution_count": null,
      "outputs": []
    }
  ]
}