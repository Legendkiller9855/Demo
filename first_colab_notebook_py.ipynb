{
  "nbformat": 4,
  "nbformat_minor": 0,
  "metadata": {
    "colab": {
      "provenance": [],
      "authorship_tag": "ABX9TyN33Xfp07Q1rwN7K2sTkjsw",
      "include_colab_link": true
    },
    "kernelspec": {
      "name": "python3",
      "display_name": "Python 3"
    },
    "language_info": {
      "name": "python"
    }
  },
  "cells": [
    {
      "cell_type": "markdown",
      "metadata": {
        "id": "view-in-github",
        "colab_type": "text"
      },
      "source": [
        "<a href=\"https://colab.research.google.com/github/Legendkiller9855/Demo/blob/main/first_colab_notebook_py.ipynb\" target=\"_parent\"><img src=\"https://colab.research.google.com/assets/colab-badge.svg\" alt=\"Open In Colab\"/></a>"
      ]
    },
    {
      "cell_type": "markdown",
      "source": [
        "PROJECT 1 : BAND NAME GENERATOR {LEVEL:EASY}\n"
      ],
      "metadata": {
        "id": "vpBRdPmByUMd"
      }
    },
    {
      "cell_type": "code",
      "source": [],
      "metadata": {
        "id": "KVU1YNA9yeWE"
      },
      "execution_count": null,
      "outputs": []
    }
  ]
}