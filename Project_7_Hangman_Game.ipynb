{
  "nbformat": 4,
  "nbformat_minor": 0,
  "metadata": {
    "colab": {
      "provenance": [],
      "authorship_tag": "ABX9TyO9gSb58xLJxzSDEXK6fMKg",
      "include_colab_link": true
    },
    "kernelspec": {
      "name": "python3",
      "display_name": "Python 3"
    },
    "language_info": {
      "name": "python"
    }
  },
  "cells": [
    {
      "cell_type": "markdown",
      "metadata": {
        "id": "view-in-github",
        "colab_type": "text"
      },
      "source": [
        "<a href=\"https://colab.research.google.com/github/Legendkiller9855/python-development-journey/blob/main/Project_7_Hangman_Game.ipynb\" target=\"_parent\"><img src=\"https://colab.research.google.com/assets/colab-badge.svg\" alt=\"Open In Colab\"/></a>"
      ]
    },
    {
      "cell_type": "code",
      "execution_count": 2,
      "metadata": {
        "colab": {
          "base_uri": "https://localhost:8080/"
        },
        "id": "4Z3R1MVVXXfp",
        "outputId": "50aeb505-5f5a-48a8-9fe0-bfdeee968ad7"
      },
      "outputs": [
        {
          "output_type": "stream",
          "name": "stdout",
          "text": [
            "HANGMAN\n",
            "_ _ _ _ _ _ _ _ _ \n",
            "The word has 9 letters\n",
            "Guess a letter: j\n",
            "Wrong guess! Lives left: 5\n",
            "_ _ _ _ _ _ _ _ _\n",
            "Guess a letter: u\n",
            "Wrong guess! Lives left: 4\n",
            "_ _ _ _ _ _ _ _ _\n",
            "Guess a letter: y\n",
            "Wrong guess! Lives left: 3\n",
            "_ _ _ _ _ _ _ _ _\n",
            "Guess a letter: t\n",
            "Wrong guess! Lives left: 2\n",
            "_ _ _ _ _ _ _ _ _\n",
            "Guess a letter: h\n",
            "_ h _ _ _ _ _ _ _\n",
            "Guess a letter: j\n",
            "You've already guessed 'j'. Try again.\n",
            "Guess a letter: k\n",
            "Wrong guess! Lives left: 1\n",
            "_ h _ _ _ _ _ _ _\n",
            "Guess a letter: j\n",
            "You've already guessed 'j'. Try again.\n",
            "Guess a letter: n\n",
            "_ h _ _ _ _ n _ _\n",
            "Guess a letter: g\n",
            "_ h _ _ _ _ n g _\n",
            "Guess a letter: a\n",
            "_ h a _ _ _ n g _\n",
            "Guess a letter: x\n",
            "Wrong guess! Lives left: 0\n",
            "You lost! The word was: challenge\n",
            "_ h a _ _ _ n g _\n",
            "THANKS FOR PLAYING.\n"
          ]
        }
      ],
      "source": [
        "print(\"HANGMAN\")\n",
        "\n",
        "word_list = [\"python\", \"hangman\", \"challenge\", \"developer\", \"function\", \"variable\",\n",
        "             \"keyboard\", \"condition\", \"iteration\", \"syntax\", \"string\", \"integer\",\n",
        "             \"loop\", \"boolean\", \"exception\", \"dictionary\", \"module\", \"parameter\",\n",
        "             \"argument\", \"recursion\"]\n",
        "\n",
        "import random\n",
        "chosen_word = random.choice(word_list).lower()\n",
        "\n",
        "\n",
        "placeholder = \"\"\n",
        "length_of_word = len(chosen_word)\n",
        "for letter in range(length_of_word):\n",
        "    placeholder += \"_ \"\n",
        "print(placeholder)\n",
        "print(f\"The word has {length_of_word} letters\")\n",
        "\n",
        "\n",
        "display = [\"_\"] * length_of_word\n",
        "\n",
        "lives = 6\n",
        "guessed_letters = []\n",
        "\n",
        "game_over = False\n",
        "\n",
        "\n",
        "while not game_over:\n",
        "    guess = input(\"Guess a letter: \").lower()\n",
        "\n",
        "    if guess in guessed_letters:\n",
        "        print(f\"You've already guessed '{guess}'. Try again.\")\n",
        "        continue\n",
        "    guessed_letters.append(guess)\n",
        "\n",
        "    correct_guess = False\n",
        "    for index in range(length_of_word):\n",
        "        if chosen_word[index] == guess:\n",
        "            display[index] = guess\n",
        "            correct_guess = True\n",
        "\n",
        "    if not correct_guess:\n",
        "        lives -= 1\n",
        "        print(f\"Wrong guess! Lives left: {lives}\")\n",
        "        if lives == 0:\n",
        "            print(\"You lost! The word was:\", chosen_word)\n",
        "            game_over = True\n",
        "\n",
        "    print(\" \".join(display))\n",
        "\n",
        "    if \"_\" not in display:\n",
        "        print(\"Congratulations! You guessed the word!\")\n",
        "        game_over = True\n",
        "\n",
        "print(\"THANKS FOR PLAYING.\")\n"
      ]
    }
  ]
}