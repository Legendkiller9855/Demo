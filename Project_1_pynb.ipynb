{
  "nbformat": 4,
  "nbformat_minor": 0,
  "metadata": {
    "colab": {
      "provenance": [],
      "authorship_tag": "ABX9TyNxaLxf47ZMoOdFjGv2pBBm",
      "include_colab_link": true
    },
    "kernelspec": {
      "name": "python3",
      "display_name": "Python 3"
    },
    "language_info": {
      "name": "python"
    }
  },
  "cells": [
    {
      "cell_type": "markdown",
      "metadata": {
        "id": "view-in-github",
        "colab_type": "text"
      },
      "source": [
        "<a href=\"https://colab.research.google.com/github/Legendkiller9855/python-development-journey/blob/main/Project_1_pynb.ipynb\" target=\"_parent\"><img src=\"https://colab.research.google.com/assets/colab-badge.svg\" alt=\"Open In Colab\"/></a>"
      ]
    },
    {
      "cell_type": "markdown",
      "source": [
        "PROJECT 1: MOVIE BAND NAME GENERATOR{LEVEL:EASY}"
      ],
      "metadata": {
        "id": "BdB_mA0cb3us"
      }
    },
    {
      "cell_type": "code",
      "execution_count": 2,
      "metadata": {
        "colab": {
          "base_uri": "https://localhost:8080/"
        },
        "id": "hEai-cPTbu-J",
        "outputId": "de8b05bf-68fb-4790-e714-7a3b5ece8fd4"
      },
      "outputs": [
        {
          "output_type": "stream",
          "name": "stdout",
          "text": [
            "Welcome to the Band Name Generator.\n",
            "What's the name of the city you grew up in?hello\n",
            "What's your pet's name?\n",
            "fgg\n",
            "Your band name could be hello fgg!\n"
          ]
        }
      ],
      "source": [
        "print(\"Welcome to the Band Name Generator.\")\n",
        "street = input(\"What's the name of the city you grew up in?\")\n",
        "pet = input(\"What's your pet's name?\\n\")\n",
        "print(\"Your band name could be \" + street + \" \" + pet + \"!\")"
      ]
    }
  ]
}