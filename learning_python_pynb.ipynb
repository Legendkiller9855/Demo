{
  "nbformat": 4,
  "nbformat_minor": 0,
  "metadata": {
    "colab": {
      "provenance": [],
      "authorship_tag": "ABX9TyN7ouIjWto135UA6C52NV1L",
      "include_colab_link": true
    },
    "kernelspec": {
      "name": "python3",
      "display_name": "Python 3"
    },
    "language_info": {
      "name": "python"
    }
  },
  "cells": [
    {
      "cell_type": "markdown",
      "metadata": {
        "id": "view-in-github",
        "colab_type": "text"
      },
      "source": [
        "<a href=\"https://colab.research.google.com/github/Legendkiller9855/python-development-journey/blob/main/learning_python_pynb.ipynb\" target=\"_parent\"><img src=\"https://colab.research.google.com/assets/colab-badge.svg\" alt=\"Open In Colab\"/></a>"
      ]
    },
    {
      "cell_type": "code",
      "execution_count": null,
      "metadata": {
        "id": "G3-t_33SDRzF",
        "colab": {
          "base_uri": "https://localhost:8080/"
        },
        "outputId": "2a912145-76f7-42ab-8708-a9bd45373892"
      },
      "outputs": [
        {
          "output_type": "stream",
          "name": "stdout",
          "text": [
            "Hello World!\n"
          ]
        }
      ],
      "source": [
        "print(\"Hello World!\")"
      ]
    },
    {
      "cell_type": "markdown",
      "source": [
        "used to add(join) two strings together.give space seprately if required"
      ],
      "metadata": {
        "id": "3tM2FcyVmLXY"
      }
    },
    {
      "cell_type": "code",
      "source": [
        "print(\"Hello\"+\"World\")"
      ],
      "metadata": {
        "colab": {
          "base_uri": "https://localhost:8080/"
        },
        "id": "qoin6plikDht",
        "outputId": "c06df236-0b5d-481a-9bd1-b972db4b96f9"
      },
      "execution_count": null,
      "outputs": [
        {
          "output_type": "stream",
          "name": "stdout",
          "text": [
            "helloworldkrishan gupta\n"
          ]
        }
      ]
    },
    {
      "cell_type": "markdown",
      "source": [
        "used to write multiline string"
      ],
      "metadata": {
        "id": "EjIk8fAjmWOk"
      }
    },
    {
      "cell_type": "code",
      "source": [
        "print(\"Hello\\nHello\")"
      ],
      "metadata": {
        "colab": {
          "base_uri": "https://localhost:8080/"
        },
        "id": "DlMBiEGPmbZ6",
        "outputId": "f0e666f6-7fd5-43d3-bf33-37ab0708eaed"
      },
      "execution_count": null,
      "outputs": [
        {
          "output_type": "stream",
          "name": "stdout",
          "text": [
            "Hello\n",
            "Hello\n"
          ]
        }
      ]
    },
    {
      "cell_type": "markdown",
      "source": [
        "simply to get an input value."
      ],
      "metadata": {
        "id": "UgusjEtjp0Oq"
      }
    },
    {
      "cell_type": "code",
      "source": [
        "print(\"hello \"+input(\"what is your name?\")+\"!\")"
      ],
      "metadata": {
        "colab": {
          "base_uri": "https://localhost:8080/"
        },
        "id": "pf2Uh8E8pZQm",
        "outputId": "8ff6af28-6873-454b-8b22-f7e1d7c190e2"
      },
      "execution_count": null,
      "outputs": [
        {
          "output_type": "stream",
          "name": "stdout",
          "text": [
            "what is your name?krishan\n",
            "hellokrishan!\n"
          ]
        }
      ]
    },
    {
      "cell_type": "code",
      "source": [
        "print(input(\"what\"))"
      ],
      "metadata": {
        "colab": {
          "base_uri": "https://localhost:8080/"
        },
        "id": "vy6aogANpzN8",
        "outputId": "222a5b79-bfb3-4e8a-83fa-c97867935e8f"
      },
      "execution_count": null,
      "outputs": [
        {
          "output_type": "stream",
          "name": "stdout",
          "text": [
            "whatk\n",
            "k\n"
          ]
        }
      ]
    },
    {
      "cell_type": "code",
      "source": [
        "print(\"hello  \"+input(\"what is your name?\")+\"!\")"
      ],
      "metadata": {
        "colab": {
          "base_uri": "https://localhost:8080/"
        },
        "id": "hYCYMoVgqZKL",
        "outputId": "303b267b-a40d-44a5-add4-727c2cdad1db"
      },
      "execution_count": null,
      "outputs": [
        {
          "output_type": "stream",
          "name": "stdout",
          "text": [
            "what is your name?kh\n",
            "hello  kh!\n"
          ]
        }
      ]
    },
    {
      "cell_type": "markdown",
      "source": [
        "to input a data and print its value\n"
      ],
      "metadata": {
        "id": "NW1iJFpRsnLs"
      }
    },
    {
      "cell_type": "code",
      "source": [
        "name = input(\"what is your name?\")\n",
        "print(name)"
      ],
      "metadata": {
        "colab": {
          "base_uri": "https://localhost:8080/"
        },
        "id": "2vbf9EbmsrBs",
        "outputId": "906c056f-8bf0-4505-c1e1-5bbf3b0eca9f"
      },
      "execution_count": null,
      "outputs": [
        {
          "output_type": "stream",
          "name": "stdout",
          "text": [
            "what is your name?Krishan\n",
            "Krishan\n"
          ]
        }
      ]
    },
    {
      "cell_type": "code",
      "source": [
        "name =(\"hello\")\n",
        "print(len(name))"
      ],
      "metadata": {
        "colab": {
          "base_uri": "https://localhost:8080/"
        },
        "id": "08TmVI2dtNxb",
        "outputId": "5d1c4f57-964c-45a6-d4dc-dd6881125517"
      },
      "execution_count": null,
      "outputs": [
        {
          "output_type": "stream",
          "name": "stdout",
          "text": [
            "5\n"
          ]
        }
      ]
    },
    {
      "cell_type": "markdown",
      "source": [
        "To print a particular index of a string(This method is known as subscripting)"
      ],
      "metadata": {
        "id": "lR25BK1SIFMg"
      }
    },
    {
      "cell_type": "code",
      "source": [
        "print(\"Hello\"[1])"
      ],
      "metadata": {
        "id": "T_5YEzPCu-zT",
        "colab": {
          "base_uri": "https://localhost:8080/"
        },
        "outputId": "bb811637-0689-4b09-b4c7-37182a48201e"
      },
      "execution_count": null,
      "outputs": [
        {
          "output_type": "stream",
          "name": "stdout",
          "text": [
            "e\n"
          ]
        }
      ]
    },
    {
      "cell_type": "markdown",
      "source": [
        "To join two strings"
      ],
      "metadata": {
        "id": "rd3-E2fUKYom"
      }
    },
    {
      "cell_type": "code",
      "source": [
        "print(\"hello\"+\"123\")"
      ],
      "metadata": {
        "colab": {
          "base_uri": "https://localhost:8080/"
        },
        "id": "Mlnoh9byKd7X",
        "outputId": "09bb8b10-2bb0-4b18-c936-f2f23ac5da7c"
      },
      "execution_count": null,
      "outputs": [
        {
          "output_type": "stream",
          "name": "stdout",
          "text": [
            "hello123\n"
          ]
        }
      ]
    },
    {
      "cell_type": "markdown",
      "source": [
        "to add two numbers"
      ],
      "metadata": {
        "id": "8qsQ4pwPKiPo"
      }
    },
    {
      "cell_type": "code",
      "source": [
        "print(2345+7865)"
      ],
      "metadata": {
        "colab": {
          "base_uri": "https://localhost:8080/"
        },
        "id": "fnOysItwKk6Z",
        "outputId": "825ee016-2181-4339-b390-1d0f0b948801"
      },
      "execution_count": null,
      "outputs": [
        {
          "output_type": "stream",
          "name": "stdout",
          "text": [
            "10210\n"
          ]
        }
      ]
    },
    {
      "cell_type": "code",
      "source": [
        "print(True)#boolean data type\n",
        "print(False)#boolean data type\n",
        "print(4.5566)#float data type"
      ],
      "metadata": {
        "colab": {
          "base_uri": "https://localhost:8080/"
        },
        "id": "ECA_9h5mK8vP",
        "outputId": "9490eef2-7d5a-49b2-b6e7-a7a1211fa01a"
      },
      "execution_count": null,
      "outputs": [
        {
          "output_type": "stream",
          "name": "stdout",
          "text": [
            "True\n",
            "False\n",
            "4.5566\n"
          ]
        }
      ]
    },
    {
      "cell_type": "markdown",
      "source": [
        "to know about the data type of a given value or expression"
      ],
      "metadata": {
        "id": "k1ca8PF-Mp4i"
      }
    },
    {
      "cell_type": "code",
      "source": [
        "print(type(123444))\n",
        "print(type(\"Hello\"))\n",
        "print(type(True))\n",
        "print(type(4.5566))"
      ],
      "metadata": {
        "colab": {
          "base_uri": "https://localhost:8080/"
        },
        "id": "_Wq3YFYhMd8H",
        "outputId": "aa4adb70-753f-4cd6-cfbf-ac3f4da4a8d7"
      },
      "execution_count": null,
      "outputs": [
        {
          "output_type": "stream",
          "name": "stdout",
          "text": [
            "<class 'int'>\n",
            "<class 'str'>\n",
            "<class 'bool'>\n",
            "<class 'float'>\n"
          ]
        }
      ]
    },
    {
      "cell_type": "markdown",
      "source": [
        "To convert a data type into another data type"
      ],
      "metadata": {
        "id": "w6talk7kNwNW"
      }
    },
    {
      "cell_type": "code",
      "source": [
        "print(int(\"12345\"))\n",
        "print(str(\"hello\"))\n",
        "print(float(90900))\n",
        "print(bool(True))"
      ],
      "metadata": {
        "colab": {
          "base_uri": "https://localhost:8080/"
        },
        "id": "Ngz5tZ3AOgCk",
        "outputId": "115632ac-a231-464d-bdf4-d038e90ec51b"
      },
      "execution_count": null,
      "outputs": [
        {
          "output_type": "stream",
          "name": "stdout",
          "text": [
            "12345\n",
            "hello\n",
            "90900.0\n",
            "True\n"
          ]
        }
      ]
    },
    {
      "cell_type": "code",
      "source": [
        "name = input(\"What is your name?\")#we are converting the length to a string type data integer as\n",
        "print(\"the length of your name is: \" + str(len(name)))#we can add two similar data types only"
      ],
      "metadata": {
        "colab": {
          "base_uri": "https://localhost:8080/"
        },
        "id": "pWhoJkTPQLC4",
        "outputId": "2d891d87-d28b-4a1e-a3c2-ceb3eb64f79b"
      },
      "execution_count": null,
      "outputs": [
        {
          "output_type": "stream",
          "name": "stdout",
          "text": [
            "What is your name?Krishan\n",
            "the length of your name is: 7\n"
          ]
        }
      ]
    },
    {
      "cell_type": "markdown",
      "source": [
        "Mathematical Operations"
      ],
      "metadata": {
        "id": "tHLJT_bFS64Q"
      }
    },
    {
      "cell_type": "code",
      "source": [
        "print(\"what is your age: \" + str(123455))\n",
        "print(8*7)#used for multiplication\n",
        "print(77+77)#used for addition\n",
        "print(77-77)#used for subtraction\n",
        "print(67/6)#used for division(gives output as a float data type)\n",
        "print(67//6)#used for division(gives output as a integer data type)\n",
        "print(67&5)#used for finding remainder\n",
        "print(8**2)#used for giving a powered value"
      ],
      "metadata": {
        "id": "ZykLvZEyQ_xT",
        "outputId": "f4d10c3a-8eb5-4bae-87c6-85a9edce25bd",
        "colab": {
          "base_uri": "https://localhost:8080/"
        }
      },
      "execution_count": null,
      "outputs": [
        {
          "output_type": "stream",
          "name": "stdout",
          "text": [
            "what is your age: 123455\n",
            "56\n",
            "154\n",
            "0\n",
            "11.166666666666666\n",
            "11\n",
            "1\n",
            "64\n"
          ]
        }
      ]
    },
    {
      "cell_type": "markdown",
      "source": [
        "Priority Level of Mathematical Operations : BODMAS\n",
        "\n",
        "B Bracket\n",
        "\n",
        "O Of or Powered Value\n",
        "\n",
        "D Division\n",
        "\n",
        "M Multiplication\n",
        "\n",
        "A Addition\n",
        "\n",
        "S Subtraction"
      ],
      "metadata": {
        "id": "2bxpHzCOVZMy"
      }
    },
    {
      "cell_type": "code",
      "source": [
        "print(3*3-3+3/3)"
      ],
      "metadata": {
        "id": "rqw3mPBhVwsL",
        "outputId": "2fcf771a-8e86-4880-adf5-48ae0a70985c",
        "colab": {
          "base_uri": "https://localhost:8080/"
        }
      },
      "execution_count": null,
      "outputs": [
        {
          "output_type": "stream",
          "name": "stdout",
          "text": [
            "7.0\n"
          ]
        }
      ]
    },
    {
      "cell_type": "code",
      "source": [
        "print(round(15/8))#used to round off the value(rounding off is according to the nearest integer value from the actual decimal value)\n",
        "print(round(119/33,2))#used to round off the value upto two decimal places."
      ],
      "metadata": {
        "id": "8Q98AM4JWXHQ",
        "outputId": "7e9e5343-abd9-4529-d684-8035cb11a2df",
        "colab": {
          "base_uri": "https://localhost:8080/"
        }
      },
      "execution_count": null,
      "outputs": [
        {
          "output_type": "stream",
          "name": "stdout",
          "text": [
            "2\n",
            "3.61\n"
          ]
        }
      ]
    },
    {
      "cell_type": "code",
      "source": [
        "#f string is used to add a expression in a string\n",
        "score = 0\n",
        "height = 1.8\n",
        "isWinning = True\n",
        "print(f\"your score is {score},your height is {height},your winning is {isWinning}\")"
      ],
      "metadata": {
        "id": "NU8Bsx1OfD6m",
        "outputId": "19536d2a-1adc-4f8d-8b9c-347e128c5b00",
        "colab": {
          "base_uri": "https://localhost:8080/"
        }
      },
      "execution_count": null,
      "outputs": [
        {
          "output_type": "stream",
          "name": "stdout",
          "text": [
            "your score is 0,your height is 1.8,your winning is True\n"
          ]
        }
      ]
    },
    {
      "cell_type": "code",
      "source": [
        "print(\"Roller Coaster Ride\")\n",
        "height = int(input((\"what is your height?\")))\n",
        "if height>120:\n",
        "  print(\"you can ride the roller coaster\")\n",
        "else:\n",
        "  print(\"you can't ride the roller coaster\")"
      ],
      "metadata": {
        "colab": {
          "base_uri": "https://localhost:8080/"
        },
        "id": "kq8fqT5kVaiv",
        "outputId": "239a1a34-c0dc-4075-8ba2-32fab7f5dc6a"
      },
      "execution_count": null,
      "outputs": [
        {
          "output_type": "stream",
          "name": "stdout",
          "text": [
            "Roller Coaster Ride\n",
            "what is your height?12\n",
            "you can't ride the roller coaster\n"
          ]
        }
      ]
    },
    {
      "cell_type": "markdown",
      "source": [
        "Comparison Operators\n",
        "\n",
        "Greater than >\n",
        "\n",
        "Smaller than <\n",
        "\n",
        "Is Equal to ==\n",
        "\n",
        "Greater than or equal to >=\n",
        "\n",
        "Smaller than or equal to <=\n",
        "\n",
        "Not Equal to !="
      ],
      "metadata": {
        "id": "SCB6piH9WTVt"
      }
    },
    {
      "cell_type": "markdown",
      "source": [
        "Modulo Operator\n",
        "\n",
        "% gives us the value of remainder"
      ],
      "metadata": {
        "id": "98QottWcXY2g"
      }
    },
    {
      "cell_type": "code",
      "source": [
        "number = int(input(\"what is your number: \"))\n",
        "problem =int(number%2)\n",
        "if problem==0:\n",
        "  print(\"even number\")\n",
        "else :\n",
        "  print(\"odd number\")"
      ],
      "metadata": {
        "colab": {
          "base_uri": "https://localhost:8080/"
        },
        "id": "2fZiKULzXBHu",
        "outputId": "cc1cde54-58f6-4916-a101-1921e8bab566"
      },
      "execution_count": null,
      "outputs": [
        {
          "output_type": "stream",
          "name": "stdout",
          "text": [
            "what is your number: 7\n",
            "odd number\n"
          ]
        }
      ]
    },
    {
      "cell_type": "code",
      "source": [
        "print(\"Roller Coaster Ride\")\n",
        "height = int(input((\"what is your height?\")))\n",
        "if height>120:\n",
        "  print(\"you can ride the roller coaster\")\n",
        "  age = int(input(\"what is your age?\"))\n",
        "  if age<18:\n",
        "    print(\"fare price is: 8$\")\n",
        "  elif age==18:\n",
        "    print(\"fare price is: 10$\")\n",
        "  else:\n",
        "    print(\"fare price is: 12$\")\n",
        "else:\n",
        "  print(\"you can't ride the roller coaster\")"
      ],
      "metadata": {
        "colab": {
          "base_uri": "https://localhost:8080/"
        },
        "id": "PwrYWqLbanCY",
        "outputId": "c58baac9-f6d3-436f-d076-72528bf04268"
      },
      "execution_count": null,
      "outputs": [
        {
          "output_type": "stream",
          "name": "stdout",
          "text": [
            "Roller Coaster Ride\n",
            "what is your height?34566\n",
            "you can ride the roller coaster\n",
            "what is your age?23\n",
            "fare price is: 12$\n"
          ]
        }
      ]
    },
    {
      "cell_type": "markdown",
      "source": [
        "if elif else is used in the situation when we don't want to check all the conditions\n",
        "\n",
        "whereas in case of if if if all the statements are checked."
      ],
      "metadata": {
        "id": "zWPeiotUdLS5"
      }
    },
    {
      "cell_type": "code",
      "source": [
        "print(\"Roller Coaster Ride\")\n",
        "height = int(input((\"what is your height?\")))\n",
        "bill = int(0)  # Initialize bill as an integer\n",
        "if height > 120:\n",
        "  print(\"you can ride the roller coaster\")\n",
        "  age = int(input(\"what is your age?\"))\n",
        "  if age < 18:\n",
        "    bill = 8  # Assign integer values to bill\n",
        "  elif age == 18:\n",
        "    bill = 10\n",
        "  else:\n",
        "    bill = 12\n",
        "  do_you_want_photos = input(\"If you want photos type yes else no\")\n",
        "\n",
        "  if do_you_want_photos == \"yes\":\n",
        "    bill += 3\n",
        "    print(f\"Your final bill is: ${bill}\")\n",
        "\n",
        "  else :\n",
        "    bill += 0\n",
        "    print(f\"Your final bill is: ${bill}\")\n",
        "\n",
        "else:\n",
        "  print(\"you can't ride the roller coaster\")"
      ],
      "metadata": {
        "colab": {
          "base_uri": "https://localhost:8080/"
        },
        "id": "9wN1icOcdbsp",
        "outputId": "2dd65c65-3d79-42ea-e9a7-09dfd4d50534"
      },
      "execution_count": null,
      "outputs": [
        {
          "output_type": "stream",
          "name": "stdout",
          "text": [
            "Roller Coaster Ride\n",
            "what is your height?8889\n",
            "you can ride the roller coaster\n",
            "what is your age?88\n",
            "If you want photos type yes else noy\n",
            "Your final bill is: $12\n"
          ]
        }
      ]
    },
    {
      "cell_type": "code",
      "source": [
        "print(\"Pizza Order App\")\n",
        "pizza_type = input(\"Veg or Non-Veg Pizza?\") # Convert input to lowercase for easier comparison\n",
        "\n",
        "bill = 0 # Initialize bill\n",
        "\n",
        "if pizza_type == \"veg\":\n",
        "  size_of_pizza = input(f\"Small:4$ , Medium:6$ , Large:8$\")\n",
        "  if size_of_pizza == \"small\":\n",
        "    bill = 4\n",
        "  elif size_of_pizza == \"medium\":\n",
        "    bill = 6\n",
        "  else: # Assuming large is the only other option\n",
        "    bill = 8\n",
        "  extra_topping_cost = 3 # Cost for veg extra topping\n",
        "\n",
        "else: # Assuming non-veg is the only other option\n",
        "  size_of_pizza = input(f\"Small:6$ , Medium:8$ , Large:10$\").lower()\n",
        "  if size_of_pizza == \"small\":\n",
        "    bill = 6\n",
        "  elif size_of_pizza == \"medium\":\n",
        "    bill = 8\n",
        "  else: # Assuming large is the only other option\n",
        "    bill = 10\n",
        "  extra_topping_cost = 5 # Cost for non-veg extra topping\n",
        "\n",
        "extra_topping = input(\"if extra topping needed type yes else no: \")\n",
        "if extra_topping == \"yes\":\n",
        "  bill += extra_topping_cost\n",
        "\n",
        "print(f\"Your final bill is ${bill}\")"
      ],
      "metadata": {
        "colab": {
          "base_uri": "https://localhost:8080/"
        },
        "id": "btQZhlycjBL5",
        "outputId": "c943b64e-1518-4712-d66d-2653bcacde9b"
      },
      "execution_count": null,
      "outputs": [
        {
          "output_type": "stream",
          "name": "stdout",
          "text": [
            "Pizza Order App\n",
            "Veg or Non-Veg Pizza?veg\n",
            "Small:4$ , Medium:6$ , Large:8$large\n",
            "if extra topping needed type yes else noyes\n",
            "Your final bill is $11\n"
          ]
        }
      ]
    },
    {
      "cell_type": "markdown",
      "source": [
        "Logical Operators:\n",
        "\n",
        "and gives output true if both conditions are true\n",
        "\n",
        "or gives output true even if one of the condition is true"
      ],
      "metadata": {
        "id": "RQv6-IdNqls2"
      }
    },
    {
      "cell_type": "code",
      "source": [
        "#Loop is the method performing a task again and again until we get our desired output.\n",
        "fruits = [\"apple\",\"banana\",\"cherry\"]\n",
        "for fruit in fruits:#will take fruit as a variable in list fruits and print all\n",
        "  print(fruit)#the fruits individually and terminate until all the indexes are indexed in the list.\n",
        "  print(fruit + \" pie \")\n",
        "  print(fruits)#this line will also run multiple times no matter the result will come same as the loop is running several times.\n",
        "\n",
        "print(fruits)"
      ],
      "metadata": {
        "id": "4tVl75KNqkO-",
        "colab": {
          "base_uri": "https://localhost:8080/"
        },
        "outputId": "28dfa5de-1f92-4148-bc50-fa2433262c2c"
      },
      "execution_count": null,
      "outputs": [
        {
          "output_type": "stream",
          "name": "stdout",
          "text": [
            "apple\n",
            "apple pie \n",
            "['apple', 'banana', 'cherry']\n",
            "banana\n",
            "banana pie \n",
            "['apple', 'banana', 'cherry']\n",
            "cherry\n",
            "cherry pie \n",
            "['apple', 'banana', 'cherry']\n",
            "['apple', 'banana', 'cherry']\n"
          ]
        }
      ]
    },
    {
      "cell_type": "code",
      "source": [
        "student_scores = [120,233,45,45,56,6,7,654]\n",
        "total_score = sum(student_scores)\n",
        "print(total_score)"
      ],
      "metadata": {
        "colab": {
          "base_uri": "https://localhost:8080/"
        },
        "id": "RUoh9gC8PXk3",
        "outputId": "47f6206f-d785-4637-ee8e-95bf0e7dc2c4"
      },
      "execution_count": null,
      "outputs": [
        {
          "output_type": "stream",
          "name": "stdout",
          "text": [
            "1166\n"
          ]
        }
      ]
    },
    {
      "cell_type": "code",
      "source": [
        "student_score = [120,233,45,45,56,7,6,654]\n",
        "total_score = 0\n",
        "for score in student_score: # Use a different variable name for the loop\n",
        "  total_score += score # Add the individual score to the total\n",
        "print(total_score)"
      ],
      "metadata": {
        "colab": {
          "base_uri": "https://localhost:8080/"
        },
        "id": "PVKPSV-aQWJ4",
        "outputId": "3bbc9ff4-61f4-4c6d-ccda-fcbcaea626a9"
      },
      "execution_count": null,
      "outputs": [
        {
          "output_type": "stream",
          "name": "stdout",
          "text": [
            "1166\n"
          ]
        }
      ]
    },
    {
      "cell_type": "code",
      "source": [
        "student_score = [120,233,45,45,56,7,6,654]\n",
        "print(max(student_score))#used for finding max value in a list"
      ],
      "metadata": {
        "id": "wp9qDEg7RWy0",
        "outputId": "27374d93-2d93-4f88-f05b-da03029f4569",
        "colab": {
          "base_uri": "https://localhost:8080/"
        }
      },
      "execution_count": null,
      "outputs": [
        {
          "output_type": "stream",
          "name": "stdout",
          "text": [
            "654\n"
          ]
        }
      ]
    },
    {
      "cell_type": "code",
      "source": [
        "student_score = [120,233,45,45,56,7,6,654]\n",
        "max_score = int(max(student_score))\n",
        "print(max_score)\n",
        "for value in student_score:\n",
        "  if value>=max_score:\n",
        "    print(\"Greatest number found\")\n",
        "\n"
      ],
      "metadata": {
        "id": "2uv8UbT0RkoJ",
        "outputId": "9820283b-ff26-499f-8c49-a6c6065661b3",
        "colab": {
          "base_uri": "https://localhost:8080/"
        }
      },
      "execution_count": null,
      "outputs": [
        {
          "output_type": "stream",
          "name": "stdout",
          "text": [
            "654\n",
            "Greatest number found\n"
          ]
        }
      ]
    },
    {
      "cell_type": "markdown",
      "source": [
        "**Range function in loop is used to repeat a task several times in a desired range**\n",
        "\n",
        "for number in range(a,b):\n",
        "\n",
        "print(number)"
      ],
      "metadata": {
        "id": "JhUBCLCxUGs9"
      }
    },
    {
      "cell_type": "code",
      "source": [
        "for number in range(1,11):#range includes a but not b i.e.1 to 10 will be printed\n",
        "  print(number)"
      ],
      "metadata": {
        "id": "WZVzqrzuUP-6",
        "outputId": "4adbd1e0-5ee6-4db8-e676-489e29e4a37e",
        "colab": {
          "base_uri": "https://localhost:8080/"
        }
      },
      "execution_count": null,
      "outputs": [
        {
          "output_type": "stream",
          "name": "stdout",
          "text": [
            "1\n",
            "2\n",
            "3\n",
            "4\n",
            "5\n",
            "6\n",
            "7\n",
            "8\n",
            "9\n",
            "10\n"
          ]
        }
      ]
    },
    {
      "cell_type": "code",
      "source": [
        "for number in range(1,11,2):#1,11 are the range and 2 means that after picking the first number pick the second number which is on 2nd position from\n",
        "  print(number)#the first number\n",
        "#matlab agar 2 likha hai toh ek ek chodh ke lena hai\n",
        "total = 0\n",
        "for number in range(1,101):\n",
        "  print(number)\n",
        "  total += number\n",
        "print(total)"
      ],
      "metadata": {
        "id": "lj1eJAA-VKOz",
        "outputId": "1e0a84e9-3880-4038-9885-94d6b313e88e",
        "colab": {
          "base_uri": "https://localhost:8080/"
        }
      },
      "execution_count": null,
      "outputs": [
        {
          "output_type": "stream",
          "name": "stdout",
          "text": [
            "1\n",
            "3\n",
            "5\n",
            "7\n",
            "9\n",
            "1\n",
            "2\n",
            "3\n",
            "4\n",
            "5\n",
            "6\n",
            "7\n",
            "8\n",
            "9\n",
            "10\n",
            "11\n",
            "12\n",
            "13\n",
            "14\n",
            "15\n",
            "16\n",
            "17\n",
            "18\n",
            "19\n",
            "20\n",
            "21\n",
            "22\n",
            "23\n",
            "24\n",
            "25\n",
            "26\n",
            "27\n",
            "28\n",
            "29\n",
            "30\n",
            "31\n",
            "32\n",
            "33\n",
            "34\n",
            "35\n",
            "36\n",
            "37\n",
            "38\n",
            "39\n",
            "40\n",
            "41\n",
            "42\n",
            "43\n",
            "44\n",
            "45\n",
            "46\n",
            "47\n",
            "48\n",
            "49\n",
            "50\n",
            "51\n",
            "52\n",
            "53\n",
            "54\n",
            "55\n",
            "56\n",
            "57\n",
            "58\n",
            "59\n",
            "60\n",
            "61\n",
            "62\n",
            "63\n",
            "64\n",
            "65\n",
            "66\n",
            "67\n",
            "68\n",
            "69\n",
            "70\n",
            "71\n",
            "72\n",
            "73\n",
            "74\n",
            "75\n",
            "76\n",
            "77\n",
            "78\n",
            "79\n",
            "80\n",
            "81\n",
            "82\n",
            "83\n",
            "84\n",
            "85\n",
            "86\n",
            "87\n",
            "88\n",
            "89\n",
            "90\n",
            "91\n",
            "92\n",
            "93\n",
            "94\n",
            "95\n",
            "96\n",
            "97\n",
            "98\n",
            "99\n",
            "100\n",
            "5050\n"
          ]
        }
      ]
    },
    {
      "cell_type": "markdown",
      "source": [
        "**FOR LOOP is used to perform a task again and again until the result is achieved or it has reached the range of performing task.**\n",
        "\n",
        "**SYNTAX : for name in range(0,4):  4 is not included**\n",
        "             \n",
        "             OR\n",
        "\n",
        "**SYNTAX : for fruit in fruits:**             \n",
        "\n",
        "**WHILE LOOP is used to perform a task again and again until the condition becomes false**\n",
        "\n",
        "**SYNTAX : while condition:**\n",
        "       "
      ],
      "metadata": {
        "id": "Y1dcIZmvs4wC"
      }
    },
    {
      "cell_type": "code",
      "source": [
        "print(\"HANGMAN\")\n",
        "\n",
        "word_list = [\"python\", \"hangman\", \"challenge\", \"developer\", \"function\", \"variable\",\n",
        "             \"keyboard\", \"condition\", \"iteration\", \"syntax\", \"string\", \"integer\",\n",
        "             \"loop\", \"boolean\", \"exception\", \"dictionary\", \"module\", \"parameter\",\n",
        "             \"argument\", \"recursion\"]\n",
        "\n",
        "import random\n",
        "chosen_word = random.choice(word_list).lower()\n",
        "print(chosen_word)  # You might want to remove this in actual gameplay\n",
        "\n",
        "# Create initial placeholder for display\n",
        "placeholder = \"\"\n",
        "length_of_word = len(chosen_word)\n",
        "for letter in range(length_of_word):\n",
        "    placeholder += \"_ \"\n",
        "print(placeholder)\n",
        "print(f\"The word has {length_of_word} letters\")\n",
        "\n",
        "# Initialize the display list with underscores\n",
        "display = [\"_\"] * length_of_word\n",
        "\n",
        "# Game variables\n",
        "lives = 6\n",
        "guessed_letters = []\n",
        "\n",
        "game_over = False\n",
        "\n",
        "# Main game loop\n",
        "while not game_over:\n",
        "    guess = input(\"Guess a letter: \").lower()\n",
        "\n",
        "    if guess in guessed_letters:\n",
        "        print(f\"You've already guessed '{guess}'. Try again.\")\n",
        "        continue\n",
        "    guessed_letters.append(guess)\n",
        "\n",
        "    # Check guessed letter and update display\n",
        "    correct_guess = False\n",
        "    for index in range(length_of_word):\n",
        "        if chosen_word[index] == guess:\n",
        "            display[index] = guess\n",
        "            correct_guess = True\n",
        "\n",
        "    if not correct_guess:\n",
        "        lives -= 1\n",
        "        print(f\"Wrong guess! Lives left: {lives}\")\n",
        "        if lives == 0:\n",
        "            print(\"You lost! The word was:\", chosen_word)\n",
        "            game_over = True\n",
        "\n",
        "    # Print current display\n",
        "    print(\" \".join(display))\n",
        "\n",
        "    # Check if the player has won\n",
        "    if \"_\" not in display:\n",
        "        print(\"Congratulations! You guessed the word!\")\n",
        "        game_over = True\n"
      ],
      "metadata": {
        "id": "Ud2sNBWlYgwz",
        "outputId": "139f5369-6a02-45ee-dac4-0e048f27b8e0",
        "colab": {
          "base_uri": "https://localhost:8080/"
        }
      },
      "execution_count": null,
      "outputs": [
        {
          "output_type": "stream",
          "name": "stdout",
          "text": [
            "HANGMAN\n",
            "string\n",
            "_ _ _ _ _ _ \n",
            "The word has 6 letters\n",
            "Guess a letter: l\n",
            "Wrong guess! Lives left: 5\n",
            "_ _ _ _ _ _\n",
            "Guess a letter: s\n",
            "s _ _ _ _ _\n",
            "Guess a letter: t\n",
            "s t _ _ _ _\n",
            "Guess a letter: r\n",
            "s t r _ _ _\n",
            "Guess a letter: i\n",
            "s t r i _ _\n",
            "Guess a letter: n\n",
            "s t r i n _\n",
            "Guess a letter: g\n",
            "s t r i n g\n",
            "Congratulations! You guessed the word!\n"
          ]
        }
      ]
    },
    {
      "cell_type": "code",
      "source": [
        "def my_function():\n",
        "  print(\"HELLO\")\n",
        "  print(\"BYE\")\n",
        "  a = 4\n",
        "  print(a)\n",
        "my_function()"
      ],
      "metadata": {
        "colab": {
          "base_uri": "https://localhost:8080/"
        },
        "id": "Jca872uUKy4u",
        "outputId": "7b5c277d-fb44-48c4-f6f0-24aaa70fccca"
      },
      "execution_count": null,
      "outputs": [
        {
          "output_type": "stream",
          "name": "stdout",
          "text": [
            "HELLO\n",
            "BYE\n",
            "4\n"
          ]
        }
      ]
    },
    {
      "cell_type": "markdown",
      "source": [
        "USING FUNCTION WITH OUR OWN INPUT.\n",
        "\n",
        "In Python,a function with input(also called a parameter or argument) lets you pass data into a function so it can perform a task using that data.\n",
        "\n",
        "It helps to input data using strings.\n",
        "\n",
        "#Example:\n",
        "def greet(name=\"Guest\"):\n",
        "\n",
        "  print(\"Hello\",name)\n",
        "  \n",
        "greet(\"Riya\")  #Output will be Hello Riya\n",
        "\n",
        "greet()      #OUtput will be Error as no argument is given\n",
        "\n",
        "              Instead use\n",
        "\n",
        "def greet(name = \"guest\") as it will give output hello guest even if we call function as greet()  as the computer will be having a pre-defined parameter or argument."
      ],
      "metadata": {
        "id": "G5kUBnXeL7Zk"
      }
    },
    {
      "cell_type": "code",
      "source": [
        "def my_function(name):\n",
        "  print(f\"My name is {name}\")\n",
        "  print(f\"{name}\")\n",
        "\n",
        "my_function(\"Krishan\")"
      ],
      "metadata": {
        "colab": {
          "base_uri": "https://localhost:8080/"
        },
        "id": "1noxTkljMC0V",
        "outputId": "7dd7f580-b81c-45f5-ddc5-e54d1161a733"
      },
      "execution_count": null,
      "outputs": [
        {
          "output_type": "stream",
          "name": "stdout",
          "text": [
            "My name is Krishan\n",
            "Krishan\n"
          ]
        }
      ]
    },
    {
      "cell_type": "code",
      "source": [
        "def my_function(name =\"Krishan\",location = \"Moga\"):\n",
        "  print(f\"My name is {name}\")\n",
        "  print(f\"I am from {location}\")\n",
        "\n",
        "#my_function(\"anand\",\"ludhiana\")\n",
        "my_function(location=\"Ludhiana\",name=\"anand\")#used to specify"
      ],
      "metadata": {
        "colab": {
          "base_uri": "https://localhost:8080/"
        },
        "id": "yFIjlqkwQ7ou",
        "outputId": "1cc78aaa-5311-4d26-9515-c0aa2f88375e"
      },
      "execution_count": null,
      "outputs": [
        {
          "output_type": "stream",
          "name": "stdout",
          "text": [
            "My name is anand\n",
            "I am from Ludhiana\n"
          ]
        }
      ]
    },
    {
      "cell_type": "code",
      "source": [
        "def my_function(name =\"Krishan\",location = \"Moga\",age=\"20\"):\n",
        "  print(f\"My name is {name}\")\n",
        "  print(f\"I am from {location}\")\n",
        "  print(f\"My age is {age}\")\n",
        "\n",
        "#my_function(\"anand\",\"ludhiana\")\n",
        "my_function(location=\"Ludhiana\",name=\"anand\",age=\"21\")"
      ],
      "metadata": {
        "id": "62WJr9fCVGKF",
        "outputId": "edd16bac-2fa6-4e4a-94be-71decb6162ed",
        "colab": {
          "base_uri": "https://localhost:8080/"
        }
      },
      "execution_count": null,
      "outputs": [
        {
          "output_type": "stream",
          "name": "stdout",
          "text": [
            "My name is anand\n",
            "I am from Ludhiana\n",
            "My age is 21\n"
          ]
        }
      ]
    },
    {
      "cell_type": "markdown",
      "source": [
        "**A Dictionary in python is a collection of key-value pairs.**\n",
        "\n",
        "**Dictionary is mutable i.e. it can be changed after creation**\n",
        "\n",
        "**SYNTAX : dict = { key1:value1,key2,value2}\n",
        "\n"
      ],
      "metadata": {
        "id": "1tOaxZYCc88U"
      }
    },
    {
      "cell_type": "code",
      "source": [
        "dictionary = {\n",
        "  \"key1\":\"value1\",\n",
        "  \"key2\":\"value2\"\n",
        "}\n",
        "print(dictionary)#Used to print the whole dictionary\n",
        "print(dictionary[\"key1\"])#Used to print the value of a particular key.\n",
        "dictionary[\"key3\"] = \"value3\"#Used to add a new key and value in a dictionary.\n",
        "print(dictionary)\n",
        "\n",
        "empty_dictionary = {}#Used to create an empty dictionary\n",
        "print(empty_dictionary)\n",
        "\n",
        "dictionary = {}#Will set the dictionart to an empty dictionary as dictionary is mutable.\n",
        "print(dictionary)\n",
        "\n",
        "hello = {\n",
        "    \"key1\":\"value1\",\n",
        "    \"key2\":\"value2\",\n",
        "    \"key3\":\"value3\",\n",
        "}\n",
        "hello[\"key1\"]=\"value4\"#Used to change the value of a key existing in a dictionary.\n",
        "print(hello)\n",
        "\n"
      ],
      "metadata": {
        "id": "s2b9FZGXYIwc",
        "colab": {
          "base_uri": "https://localhost:8080/"
        },
        "outputId": "3571a15a-a0a6-4e09-9f4f-1a976205dcac"
      },
      "execution_count": null,
      "outputs": [
        {
          "output_type": "stream",
          "name": "stdout",
          "text": [
            "{'key1': 'value1', 'key2': 'value2'}\n",
            "value1\n",
            "{'key1': 'value1', 'key2': 'value2', 'key3': 'value3'}\n",
            "{}\n",
            "{}\n",
            "{'key1': 'value4', 'key2': 'value2', 'key3': 'value3'}\n"
          ]
        }
      ]
    },
    {
      "cell_type": "code",
      "source": [
        "#LOOP in a dictionary.\n",
        "dictionary = {\n",
        "    \"bug\" : \"hello\",\n",
        "    \"worm\":\"bye\",\n",
        "    \"function\":\"value\",\n",
        "}\n",
        "\n",
        "for thing in dictionary:\n",
        "  print(thing)#Used to print the keys in a dictionary.\n",
        "  print(dictionary[thing])#Used to print values in a dictionary."
      ],
      "metadata": {
        "colab": {
          "base_uri": "https://localhost:8080/"
        },
        "id": "uKa_aD3fjZ2L",
        "outputId": "ae7a9832-3108-4b37-db72-cef8173539a3"
      },
      "execution_count": null,
      "outputs": [
        {
          "output_type": "stream",
          "name": "stdout",
          "text": [
            "bug\n",
            "hello\n",
            "worm\n",
            "bye\n",
            "function\n",
            "value\n"
          ]
        }
      ]
    },
    {
      "cell_type": "code",
      "source": [
        "student_scores = {\n",
        "    'Harry': 88,\n",
        "    'Ron': 78,\n",
        "    'Hermione': 95,\n",
        "    'Draco': 75,\n",
        "    'Neville': 60\n",
        "}\n",
        "\n",
        "student_grades = {}\n",
        "for student in student_scores:\n",
        "    score = student_scores[student]\n",
        "    if score>=90:\n",
        "        student_grades[student] = \"A\"\n",
        "    elif score<=90 and score>=70:\n",
        "        student_grades[student] = \"A\"\n",
        "    else:\n",
        "      student_grades[student]=\"FAIL\"\n",
        "\n",
        "print(student_grades)"
      ],
      "metadata": {
        "id": "4i6sArpDmvin"
      },
      "execution_count": null,
      "outputs": []
    },
    {
      "cell_type": "code",
      "source": [
        "capitals = {\n",
        "    \"India\":\"Delhi\",\n",
        "    \"USA\":\"Washington DC\",\n",
        "    \"France\":\"Paris\",\n",
        "}\n",
        "print(capitals)\n",
        "\n",
        "city_travelled={\n",
        "    \"India\":[\"Delhi\",\"Goa\",\"Moga\"],#List can also be the value of a key in a dictionary.\n",
        "    \"USA\":[\"Washington DC\",\"New York\"],\n",
        "    \"France\":[\"Paris\",\"Marseille\"],\n",
        "}\n",
        "print(city_travelled[\"India\"][1])#Used to print a particular value of list in a given dictionary using index value.\n",
        "\n",
        "city_travelled[\"nested_list\"] = [\"A\",\"B\",\"C\",[\"D\",\"E\"]] # Corrected syntax for adding a new key-value pair\n",
        "print(city_travelled[\"nested_list\"][3][0])"
      ],
      "metadata": {
        "colab": {
          "base_uri": "https://localhost:8080/"
        },
        "id": "uSU5rNacm8XF",
        "outputId": "299758e7-c552-4600-d6ef-dda498229687"
      },
      "execution_count": null,
      "outputs": [
        {
          "output_type": "stream",
          "name": "stdout",
          "text": [
            "{'India': 'Delhi', 'USA': 'Washington DC', 'France': 'Paris'}\n",
            "Goa\n",
            "D\n"
          ]
        }
      ]
    },
    {
      "cell_type": "code",
      "source": [
        "travel_log = {\n",
        "    \"France\":{\n",
        "        \"cities_visited\":[\"Paris\",\"Lille\",\"Dijon\"],\n",
        "        \"total_visits\":12,\n",
        "    },\n",
        "    \"Germany\":{\n",
        "        \"cities_visited\":[\"Berlin\",\"Hamburg\",\"Stuttgart\"],\n",
        "        \"total_visits\":5,\n",
        "    },\n",
        "}\n",
        "print(travel_log[\"France\"][\"cities_visited\"][1])\n",
        "print(travel_log[\"France\"][\"total_visits\"])"
      ],
      "metadata": {
        "colab": {
          "base_uri": "https://localhost:8080/"
        },
        "id": "Wy70SCOkqOXL",
        "outputId": "b316af9d-375f-4197-a3c0-a2a9a97ffad8"
      },
      "execution_count": null,
      "outputs": [
        {
          "output_type": "stream",
          "name": "stdout",
          "text": [
            "Lille\n",
            "12\n"
          ]
        }
      ]
    },
    {
      "cell_type": "code",
      "source": [
        "def format_name(f_name = \"First Name\",l_name = \"Last Name\"):\n",
        "  print(f_name.title())\n",
        "  print(l_name.title())\n",
        "  name = f_name + \" \" + l_name\n",
        "  print(name)\n",
        "format_name(l_name = \"Gupta\",f_name = \"Krishan\")"
      ],
      "metadata": {
        "colab": {
          "base_uri": "https://localhost:8080/"
        },
        "id": "AhsB1yW854GK",
        "outputId": "bd15d52d-19f5-42a2-8628-0e674e3bce8c"
      },
      "execution_count": null,
      "outputs": [
        {
          "output_type": "stream",
          "name": "stdout",
          "text": [
            "Krishan\n",
            "Gupta\n",
            "Krishan Gupta\n"
          ]
        }
      ]
    },
    {
      "cell_type": "markdown",
      "source": [
        "Functions with OUTPUT:\n",
        "\n",
        "SYNTAX :"
      ],
      "metadata": {
        "id": "eZwbW0WA39WY"
      }
    },
    {
      "cell_type": "code",
      "source": [
        "def my_function():\n",
        "  f_name = \"Krishan \"\n",
        "  l_name = \"Gupta\"\n",
        "  name = f_name + l_name\n",
        "  return name\n",
        "\n",
        "my_function()"
      ],
      "metadata": {
        "colab": {
          "base_uri": "https://localhost:8080/",
          "height": 36
        },
        "id": "KiVKdduX4GyG",
        "outputId": "bf298f9d-db54-4110-eb59-e8bcdf46af46"
      },
      "execution_count": null,
      "outputs": [
        {
          "output_type": "execute_result",
          "data": {
            "text/plain": [
              "'KrishanGupta'"
            ],
            "application/vnd.google.colaboratory.intrinsic+json": {
              "type": "string"
            }
          },
          "metadata": {},
          "execution_count": 5
        }
      ]
    },
    {
      "cell_type": "code",
      "source": [
        "def function_1(text):\n",
        "  return text + text\n",
        "\n",
        "def function_2(text):\n",
        "  return text.title()\n",
        "\n",
        "output = function_1(\"krishan\")\n",
        "print(output)\n",
        "\n",
        "result = function_2(output)\n",
        "print(result)\n",
        "#OR\n",
        "aim = function_2(function_1(\"krishan\"))\n",
        "print(aim)"
      ],
      "metadata": {
        "colab": {
          "base_uri": "https://localhost:8080/"
        },
        "id": "nG7-PZ_75oid",
        "outputId": "32c84d5e-5375-4009-b148-75bd33c8364b"
      },
      "execution_count": null,
      "outputs": [
        {
          "output_type": "stream",
          "name": "stdout",
          "text": [
            "krishankrishan\n",
            "Krishankrishan\n",
            "Krishankrishan\n"
          ]
        }
      ]
    },
    {
      "cell_type": "markdown",
      "source": [
        "return keyword tells us that the function is over.We can have multiple return keywords in a function."
      ],
      "metadata": {
        "id": "F8YMsz4h-Kif"
      }
    },
    {
      "cell_type": "code",
      "source": [
        "def function(f_name=\"first\",l_name=\"last\"):\n",
        "  formated_first_name = f_name.title()\n",
        "  formated_last_name = l_name.title()\n",
        "  return f\"{formated_first_name} {formated_last_name}\"\n",
        "  print(function(l_name=\"gupta\",f_name=\"krishan\")) #Will not be executed as return keyword has marked the ending of the function.\n",
        "function()"
      ],
      "metadata": {
        "colab": {
          "base_uri": "https://localhost:8080/",
          "height": 36
        },
        "id": "j63JHjPA-InV",
        "outputId": "5316dd2c-33be-4d25-97b0-33297786a9a9"
      },
      "execution_count": null,
      "outputs": [
        {
          "output_type": "execute_result",
          "data": {
            "text/plain": [
              "'First Last'"
            ],
            "application/vnd.google.colaboratory.intrinsic+json": {
              "type": "string"
            }
          },
          "metadata": {},
          "execution_count": 2
        }
      ]
    },
    {
      "cell_type": "code",
      "source": [
        "def function(f_name=\"first\",l_name=\"last\"):\n",
        "  if f_name == \"\" or l_name == \"\": #If this condition is satisfied it will return null value\n",
        "    return\n",
        "  formated_first_name = f_name.title()\n",
        "  formated_last_name = l_name.title()\n",
        "  return f\"{formated_first_name} {formated_last_name}\"\n",
        "\n",
        "print(function(input(\"What is your name?\"),input(\"What is your last name?\")))"
      ],
      "metadata": {
        "colab": {
          "base_uri": "https://localhost:8080/"
        },
        "id": "Dz6v3VKO98rQ",
        "outputId": "7caa00e5-f452-48e4-b716-d52a2ac034ee"
      },
      "execution_count": null,
      "outputs": [
        {
          "output_type": "stream",
          "name": "stdout",
          "text": [
            "What is your name?\n",
            "What is your last name?\n",
            "None\n"
          ]
        }
      ]
    },
    {
      "cell_type": "code",
      "source": [
        "def is_leap_year(year):\n",
        "    if year % 4 == 0:\n",
        "        if year % 100 == 0:\n",
        "            if year % 400 == 0:\n",
        "                return True\n",
        "            else:\n",
        "                return False\n",
        "        else:\n",
        "            return True\n",
        "    else:\n",
        "        return False\n",
        "is_leap_year(2000)"
      ],
      "metadata": {
        "colab": {
          "base_uri": "https://localhost:8080/"
        },
        "id": "jGzGmNVACoL-",
        "outputId": "c2808502-dfa2-4b7e-b85e-090e3c070a87"
      },
      "execution_count": null,
      "outputs": [
        {
          "output_type": "execute_result",
          "data": {
            "text/plain": [
              "True"
            ]
          },
          "metadata": {},
          "execution_count": 5
        }
      ]
    },
    {
      "cell_type": "markdown",
      "source": [
        "*Doctstring is a special kind of string used to document a module,class,method,or function.It helps others understand what the code is supposed to do.\n",
        "\n",
        "SYNTAX : \"\"\"\"\"\"\"(comment after the first line of function)"
      ],
      "metadata": {
        "id": "93qwPTLEDFM4"
      }
    },
    {
      "cell_type": "code",
      "source": [
        "def my_function(n1,n2):\n",
        "  return n1+n2\n",
        "my_favourite_operation = my_function#Used to store a function in another variable.To store simply remove the ()as brackets will trigger the function.\n",
        "print(my_favourite_operation(2,3))#Used to run the variable which consists the function. i.e. the function will be triggered automatically\n"
      ],
      "metadata": {
        "id": "oMQuXw0yCr_H",
        "colab": {
          "base_uri": "https://localhost:8080/"
        },
        "outputId": "257288b0-67a7-43dd-f1ac-83e3ef558553"
      },
      "execution_count": null,
      "outputs": [
        {
          "output_type": "stream",
          "name": "stdout",
          "text": [
            "5\n"
          ]
        }
      ]
    },
    {
      "cell_type": "code",
      "source": [
        "def function(n1, n2):\n",
        "  operations = {\n",
        "      \"+\": n1 + n2,\n",
        "      \"-\": n1 - n2,\n",
        "      \"*\": n1 * n2,\n",
        "      \"/\": n1 / n2,\n",
        "  }\n",
        "  return operations\n",
        "\n",
        "result = function(n1=2, n2=4)\n",
        "print(result[\"+\"])"
      ],
      "metadata": {
        "colab": {
          "base_uri": "https://localhost:8080/"
        },
        "id": "RRDfdD0h0zOl",
        "outputId": "1cb594a4-0359-48a3-8e5a-cc762b157c77"
      },
      "execution_count": 3,
      "outputs": [
        {
          "output_type": "stream",
          "name": "stdout",
          "text": [
            "6\n"
          ]
        }
      ]
    },
    {
      "cell_type": "code",
      "source": [
        "def subtract(n1,n2):\n",
        "  return n1-n2\n",
        "\n",
        "def add(n1,n2):\n",
        "  return n1+n2\n",
        "\n",
        "def multiply(n1,n2):\n",
        "  return n1*n2\n",
        "\n",
        "def divide(n1,n2):\n",
        "  return n1/n2\n",
        "\n",
        "operations = {\n",
        "    \"-\":subtract,\n",
        "    \"+\":add,\n",
        "    \"*\":multiply,\n",
        "    \"/\":divide,\n",
        "}\n",
        "print(operations[\"*\"](n1=4,n2=5))"
      ],
      "metadata": {
        "id": "uyb7vx0O22AP",
        "colab": {
          "base_uri": "https://localhost:8080/"
        },
        "outputId": "d6afb18d-5171-4e68-f805-103102a73405"
      },
      "execution_count": 6,
      "outputs": [
        {
          "output_type": "stream",
          "name": "stdout",
          "text": [
            "20\n"
          ]
        }
      ]
    },
    {
      "cell_type": "code",
      "source": [
        "def subtract(n1,n2):\n",
        "  return n1-n2\n",
        "\n",
        "def add(n1,n2):\n",
        "  return n1+n2\n",
        "\n",
        "def multiply(n1,n2):\n",
        "  return n1*n2\n",
        "\n",
        "def divide(n1,n2):\n",
        "  return n1/n2\n",
        "\n",
        "operations = {\n",
        "    \"-\":subtract,\n",
        "    \"+\":add,\n",
        "    \"*\":multiply,\n",
        "    \"/\":divide,\n",
        "}\n",
        "\n",
        "def calculator():\n",
        "  should_continue = True\n",
        "  first_number =float(input(\"What's your first number?\"))\n",
        "  answer = 0\n",
        "\n",
        "  while should_continue:\n",
        "    operations_available = \"*\\n-\\n+\\n/\"\n",
        "    print(operations_available)\n",
        "    operand_selected = input(\"What's the operator selected?\")\n",
        "    second_number=float(input(\"What's your next number?\"))\n",
        "    answer = operations[operand_selected](n1=first_number,n2=second_number)\n",
        "    print(answer)\n",
        "    print(\"If you want to continue the calculation type y , if you want to reset the calculator type n\")\n",
        "    wanna_continue =input(\"Want to continue the operations from the result or from the beginning?\")\n",
        "    if wanna_continue == \"y\":\n",
        "      first_number = answer\n",
        "\n",
        "    else:\n",
        "      should_continue = False\n",
        "  print(f\"Your final solution is {answer}\")\n",
        "\n",
        "calculator()"
      ],
      "metadata": {
        "id": "sO5lchVcQC-v"
      },
      "execution_count": null,
      "outputs": []
    }
  ]
}