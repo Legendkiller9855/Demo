{
  "nbformat": 4,
  "nbformat_minor": 0,
  "metadata": {
    "colab": {
      "provenance": [],
      "authorship_tag": "ABX9TyNMZ6EpcuRZirtNMu96PdvZ",
      "include_colab_link": true
    },
    "kernelspec": {
      "name": "python3",
      "display_name": "Python 3"
    },
    "language_info": {
      "name": "python"
    }
  },
  "cells": [
    {
      "cell_type": "markdown",
      "metadata": {
        "id": "view-in-github",
        "colab_type": "text"
      },
      "source": [
        "<a href=\"https://colab.research.google.com/github/Legendkiller9855/python-development-journey/blob/main/learning_python_pynb.ipynb\" target=\"_parent\"><img src=\"https://colab.research.google.com/assets/colab-badge.svg\" alt=\"Open In Colab\"/></a>"
      ]
    },
    {
      "cell_type": "code",
      "execution_count": null,
      "metadata": {
        "id": "G3-t_33SDRzF",
        "colab": {
          "base_uri": "https://localhost:8080/"
        },
        "outputId": "2a912145-76f7-42ab-8708-a9bd45373892"
      },
      "outputs": [
        {
          "output_type": "stream",
          "name": "stdout",
          "text": [
            "Hello World!\n"
          ]
        }
      ],
      "source": [
        "print(\"Hello World!\")"
      ]
    },
    {
      "cell_type": "markdown",
      "source": [
        "used to add(join) two strings together.give space seprately if required"
      ],
      "metadata": {
        "id": "3tM2FcyVmLXY"
      }
    },
    {
      "cell_type": "code",
      "source": [
        "print(\"Hello\"+\"World\")"
      ],
      "metadata": {
        "colab": {
          "base_uri": "https://localhost:8080/"
        },
        "id": "qoin6plikDht",
        "outputId": "c06df236-0b5d-481a-9bd1-b972db4b96f9"
      },
      "execution_count": null,
      "outputs": [
        {
          "output_type": "stream",
          "name": "stdout",
          "text": [
            "helloworldkrishan gupta\n"
          ]
        }
      ]
    },
    {
      "cell_type": "markdown",
      "source": [
        "used to write multiline string"
      ],
      "metadata": {
        "id": "EjIk8fAjmWOk"
      }
    },
    {
      "cell_type": "code",
      "source": [
        "print(\"Hello\\nHello\")"
      ],
      "metadata": {
        "colab": {
          "base_uri": "https://localhost:8080/"
        },
        "id": "DlMBiEGPmbZ6",
        "outputId": "f0e666f6-7fd5-43d3-bf33-37ab0708eaed"
      },
      "execution_count": null,
      "outputs": [
        {
          "output_type": "stream",
          "name": "stdout",
          "text": [
            "Hello\n",
            "Hello\n"
          ]
        }
      ]
    },
    {
      "cell_type": "markdown",
      "source": [
        "simply to get an input value."
      ],
      "metadata": {
        "id": "UgusjEtjp0Oq"
      }
    },
    {
      "cell_type": "code",
      "source": [
        "print(\"hello \"+input(\"what is your name?\")+\"!\")"
      ],
      "metadata": {
        "colab": {
          "base_uri": "https://localhost:8080/"
        },
        "id": "pf2Uh8E8pZQm",
        "outputId": "8ff6af28-6873-454b-8b22-f7e1d7c190e2"
      },
      "execution_count": null,
      "outputs": [
        {
          "output_type": "stream",
          "name": "stdout",
          "text": [
            "what is your name?krishan\n",
            "hellokrishan!\n"
          ]
        }
      ]
    },
    {
      "cell_type": "code",
      "source": [
        "print(input(\"what\"))"
      ],
      "metadata": {
        "colab": {
          "base_uri": "https://localhost:8080/"
        },
        "id": "vy6aogANpzN8",
        "outputId": "222a5b79-bfb3-4e8a-83fa-c97867935e8f"
      },
      "execution_count": null,
      "outputs": [
        {
          "output_type": "stream",
          "name": "stdout",
          "text": [
            "whatk\n",
            "k\n"
          ]
        }
      ]
    },
    {
      "cell_type": "code",
      "source": [
        "print(\"hello  \"+input(\"what is your name?\")+\"!\")"
      ],
      "metadata": {
        "colab": {
          "base_uri": "https://localhost:8080/"
        },
        "id": "hYCYMoVgqZKL",
        "outputId": "303b267b-a40d-44a5-add4-727c2cdad1db"
      },
      "execution_count": null,
      "outputs": [
        {
          "output_type": "stream",
          "name": "stdout",
          "text": [
            "what is your name?kh\n",
            "hello  kh!\n"
          ]
        }
      ]
    },
    {
      "cell_type": "markdown",
      "source": [
        "to input a data and print its value\n"
      ],
      "metadata": {
        "id": "NW1iJFpRsnLs"
      }
    },
    {
      "cell_type": "code",
      "source": [
        "name = input(\"what is your name?\")\n",
        "print(name)"
      ],
      "metadata": {
        "colab": {
          "base_uri": "https://localhost:8080/"
        },
        "id": "2vbf9EbmsrBs",
        "outputId": "906c056f-8bf0-4505-c1e1-5bbf3b0eca9f"
      },
      "execution_count": null,
      "outputs": [
        {
          "output_type": "stream",
          "name": "stdout",
          "text": [
            "what is your name?Krishan\n",
            "Krishan\n"
          ]
        }
      ]
    },
    {
      "cell_type": "code",
      "source": [
        "name =(\"hello\")\n",
        "print(len(name))"
      ],
      "metadata": {
        "colab": {
          "base_uri": "https://localhost:8080/"
        },
        "id": "08TmVI2dtNxb",
        "outputId": "5d1c4f57-964c-45a6-d4dc-dd6881125517"
      },
      "execution_count": null,
      "outputs": [
        {
          "output_type": "stream",
          "name": "stdout",
          "text": [
            "5\n"
          ]
        }
      ]
    },
    {
      "cell_type": "code",
      "source": [],
      "metadata": {
        "id": "T_5YEzPCu-zT"
      },
      "execution_count": null,
      "outputs": []
    }
  ]
}