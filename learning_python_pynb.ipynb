{
  "nbformat": 4,
  "nbformat_minor": 0,
  "metadata": {
    "colab": {
      "provenance": [],
      "authorship_tag": "ABX9TyNwye4qTqp46GYVX0xsxs39",
      "include_colab_link": true
    },
    "kernelspec": {
      "name": "python3",
      "display_name": "Python 3"
    },
    "language_info": {
      "name": "python"
    }
  },
  "cells": [
    {
      "cell_type": "markdown",
      "metadata": {
        "id": "view-in-github",
        "colab_type": "text"
      },
      "source": [
        "<a href=\"https://colab.research.google.com/github/Legendkiller9855/python-development-journey/blob/main/learning_python_pynb.ipynb\" target=\"_parent\"><img src=\"https://colab.research.google.com/assets/colab-badge.svg\" alt=\"Open In Colab\"/></a>"
      ]
    },
    {
      "cell_type": "code",
      "execution_count": null,
      "metadata": {
        "id": "G3-t_33SDRzF",
        "colab": {
          "base_uri": "https://localhost:8080/"
        },
        "outputId": "2a912145-76f7-42ab-8708-a9bd45373892"
      },
      "outputs": [
        {
          "output_type": "stream",
          "name": "stdout",
          "text": [
            "Hello World!\n"
          ]
        }
      ],
      "source": [
        "print(\"Hello World!\")"
      ]
    },
    {
      "cell_type": "markdown",
      "source": [
        "used to add(join) two strings together.give space seprately if required"
      ],
      "metadata": {
        "id": "3tM2FcyVmLXY"
      }
    },
    {
      "cell_type": "code",
      "source": [
        "print(\"Hello\"+\"World\")"
      ],
      "metadata": {
        "colab": {
          "base_uri": "https://localhost:8080/"
        },
        "id": "qoin6plikDht",
        "outputId": "c06df236-0b5d-481a-9bd1-b972db4b96f9"
      },
      "execution_count": null,
      "outputs": [
        {
          "output_type": "stream",
          "name": "stdout",
          "text": [
            "helloworldkrishan gupta\n"
          ]
        }
      ]
    },
    {
      "cell_type": "markdown",
      "source": [
        "used to write multiline string"
      ],
      "metadata": {
        "id": "EjIk8fAjmWOk"
      }
    },
    {
      "cell_type": "code",
      "source": [
        "print(\"Hello\\nHello\")"
      ],
      "metadata": {
        "colab": {
          "base_uri": "https://localhost:8080/"
        },
        "id": "DlMBiEGPmbZ6",
        "outputId": "f0e666f6-7fd5-43d3-bf33-37ab0708eaed"
      },
      "execution_count": null,
      "outputs": [
        {
          "output_type": "stream",
          "name": "stdout",
          "text": [
            "Hello\n",
            "Hello\n"
          ]
        }
      ]
    },
    {
      "cell_type": "markdown",
      "source": [
        "simply to get an input value."
      ],
      "metadata": {
        "id": "UgusjEtjp0Oq"
      }
    },
    {
      "cell_type": "code",
      "source": [
        "print(\"hello \"+input(\"what is your name?\")+\"!\")"
      ],
      "metadata": {
        "colab": {
          "base_uri": "https://localhost:8080/"
        },
        "id": "pf2Uh8E8pZQm",
        "outputId": "8ff6af28-6873-454b-8b22-f7e1d7c190e2"
      },
      "execution_count": null,
      "outputs": [
        {
          "output_type": "stream",
          "name": "stdout",
          "text": [
            "what is your name?krishan\n",
            "hellokrishan!\n"
          ]
        }
      ]
    },
    {
      "cell_type": "code",
      "source": [
        "print(input(\"what\"))"
      ],
      "metadata": {
        "colab": {
          "base_uri": "https://localhost:8080/"
        },
        "id": "vy6aogANpzN8",
        "outputId": "222a5b79-bfb3-4e8a-83fa-c97867935e8f"
      },
      "execution_count": null,
      "outputs": [
        {
          "output_type": "stream",
          "name": "stdout",
          "text": [
            "whatk\n",
            "k\n"
          ]
        }
      ]
    },
    {
      "cell_type": "code",
      "source": [
        "print(\"hello  \"+input(\"what is your name?\")+\"!\")"
      ],
      "metadata": {
        "colab": {
          "base_uri": "https://localhost:8080/"
        },
        "id": "hYCYMoVgqZKL",
        "outputId": "303b267b-a40d-44a5-add4-727c2cdad1db"
      },
      "execution_count": null,
      "outputs": [
        {
          "output_type": "stream",
          "name": "stdout",
          "text": [
            "what is your name?kh\n",
            "hello  kh!\n"
          ]
        }
      ]
    },
    {
      "cell_type": "markdown",
      "source": [
        "to input a data and print its value\n"
      ],
      "metadata": {
        "id": "NW1iJFpRsnLs"
      }
    },
    {
      "cell_type": "code",
      "source": [
        "name = input(\"what is your name?\")\n",
        "print(name)"
      ],
      "metadata": {
        "colab": {
          "base_uri": "https://localhost:8080/"
        },
        "id": "2vbf9EbmsrBs",
        "outputId": "906c056f-8bf0-4505-c1e1-5bbf3b0eca9f"
      },
      "execution_count": null,
      "outputs": [
        {
          "output_type": "stream",
          "name": "stdout",
          "text": [
            "what is your name?Krishan\n",
            "Krishan\n"
          ]
        }
      ]
    },
    {
      "cell_type": "code",
      "source": [
        "name =(\"hello\")\n",
        "print(len(name))"
      ],
      "metadata": {
        "colab": {
          "base_uri": "https://localhost:8080/"
        },
        "id": "08TmVI2dtNxb",
        "outputId": "5d1c4f57-964c-45a6-d4dc-dd6881125517"
      },
      "execution_count": null,
      "outputs": [
        {
          "output_type": "stream",
          "name": "stdout",
          "text": [
            "5\n"
          ]
        }
      ]
    },
    {
      "cell_type": "markdown",
      "source": [
        "To print a particular index of a string(This method is known as subscripting)"
      ],
      "metadata": {
        "id": "lR25BK1SIFMg"
      }
    },
    {
      "cell_type": "code",
      "source": [
        "print(\"Hello\"[1])"
      ],
      "metadata": {
        "id": "T_5YEzPCu-zT",
        "colab": {
          "base_uri": "https://localhost:8080/"
        },
        "outputId": "bb811637-0689-4b09-b4c7-37182a48201e"
      },
      "execution_count": null,
      "outputs": [
        {
          "output_type": "stream",
          "name": "stdout",
          "text": [
            "e\n"
          ]
        }
      ]
    },
    {
      "cell_type": "markdown",
      "source": [
        "To join two strings"
      ],
      "metadata": {
        "id": "rd3-E2fUKYom"
      }
    },
    {
      "cell_type": "code",
      "source": [
        "print(\"hello\"+\"123\")"
      ],
      "metadata": {
        "colab": {
          "base_uri": "https://localhost:8080/"
        },
        "id": "Mlnoh9byKd7X",
        "outputId": "09bb8b10-2bb0-4b18-c936-f2f23ac5da7c"
      },
      "execution_count": null,
      "outputs": [
        {
          "output_type": "stream",
          "name": "stdout",
          "text": [
            "hello123\n"
          ]
        }
      ]
    },
    {
      "cell_type": "markdown",
      "source": [
        "to add two numbers"
      ],
      "metadata": {
        "id": "8qsQ4pwPKiPo"
      }
    },
    {
      "cell_type": "code",
      "source": [
        "print(2345+7865)"
      ],
      "metadata": {
        "colab": {
          "base_uri": "https://localhost:8080/"
        },
        "id": "fnOysItwKk6Z",
        "outputId": "825ee016-2181-4339-b390-1d0f0b948801"
      },
      "execution_count": null,
      "outputs": [
        {
          "output_type": "stream",
          "name": "stdout",
          "text": [
            "10210\n"
          ]
        }
      ]
    },
    {
      "cell_type": "code",
      "source": [
        "print(True)#boolean data type\n",
        "print(False)#boolean data type\n",
        "print(4.5566)#float data type"
      ],
      "metadata": {
        "colab": {
          "base_uri": "https://localhost:8080/"
        },
        "id": "ECA_9h5mK8vP",
        "outputId": "9490eef2-7d5a-49b2-b6e7-a7a1211fa01a"
      },
      "execution_count": null,
      "outputs": [
        {
          "output_type": "stream",
          "name": "stdout",
          "text": [
            "True\n",
            "False\n",
            "4.5566\n"
          ]
        }
      ]
    },
    {
      "cell_type": "markdown",
      "source": [
        "to know about the data type of a given value or expression"
      ],
      "metadata": {
        "id": "k1ca8PF-Mp4i"
      }
    },
    {
      "cell_type": "code",
      "source": [
        "print(type(123444))\n",
        "print(type(\"Hello\"))\n",
        "print(type(True))\n",
        "print(type(4.5566))"
      ],
      "metadata": {
        "colab": {
          "base_uri": "https://localhost:8080/"
        },
        "id": "_Wq3YFYhMd8H",
        "outputId": "aa4adb70-753f-4cd6-cfbf-ac3f4da4a8d7"
      },
      "execution_count": null,
      "outputs": [
        {
          "output_type": "stream",
          "name": "stdout",
          "text": [
            "<class 'int'>\n",
            "<class 'str'>\n",
            "<class 'bool'>\n",
            "<class 'float'>\n"
          ]
        }
      ]
    },
    {
      "cell_type": "markdown",
      "source": [
        "To convert a data type into another data type"
      ],
      "metadata": {
        "id": "w6talk7kNwNW"
      }
    },
    {
      "cell_type": "code",
      "source": [
        "print(int(\"12345\"))\n",
        "print(str(\"hello\"))\n",
        "print(float(90900))\n",
        "print(bool(True))"
      ],
      "metadata": {
        "colab": {
          "base_uri": "https://localhost:8080/"
        },
        "id": "Ngz5tZ3AOgCk",
        "outputId": "115632ac-a231-464d-bdf4-d038e90ec51b"
      },
      "execution_count": null,
      "outputs": [
        {
          "output_type": "stream",
          "name": "stdout",
          "text": [
            "12345\n",
            "hello\n",
            "90900.0\n",
            "True\n"
          ]
        }
      ]
    },
    {
      "cell_type": "code",
      "source": [
        "name = input(\"What is your name?\")#we are converting the length to a string type data integer as\n",
        "print(\"the length of your name is: \" + str(len(name)))#we can add two similar data types only"
      ],
      "metadata": {
        "colab": {
          "base_uri": "https://localhost:8080/"
        },
        "id": "pWhoJkTPQLC4",
        "outputId": "2d891d87-d28b-4a1e-a3c2-ceb3eb64f79b"
      },
      "execution_count": null,
      "outputs": [
        {
          "output_type": "stream",
          "name": "stdout",
          "text": [
            "What is your name?Krishan\n",
            "the length of your name is: 7\n"
          ]
        }
      ]
    },
    {
      "cell_type": "markdown",
      "source": [
        "Mathematical Operations"
      ],
      "metadata": {
        "id": "tHLJT_bFS64Q"
      }
    },
    {
      "cell_type": "code",
      "source": [
        "print(\"what is your age: \" + str(123455))\n",
        "print(8*7)#used for multiplication\n",
        "print(77+77)#used for addition\n",
        "print(77-77)#used for subtraction\n",
        "print(67/6)#used for division(gives output as a float data type)\n",
        "print(67//6)#used for division(gives output as a integer data type)\n",
        "print(67&5)#used for finding remainder\n",
        "print(8**2)#used for giving a powered value"
      ],
      "metadata": {
        "id": "ZykLvZEyQ_xT",
        "outputId": "f4d10c3a-8eb5-4bae-87c6-85a9edce25bd",
        "colab": {
          "base_uri": "https://localhost:8080/"
        }
      },
      "execution_count": null,
      "outputs": [
        {
          "output_type": "stream",
          "name": "stdout",
          "text": [
            "what is your age: 123455\n",
            "56\n",
            "154\n",
            "0\n",
            "11.166666666666666\n",
            "11\n",
            "1\n",
            "64\n"
          ]
        }
      ]
    },
    {
      "cell_type": "markdown",
      "source": [
        "Priority Level of Mathematical Operations : BODMAS\n",
        "\n",
        "B Bracket\n",
        "\n",
        "O Of or Powered Value\n",
        "\n",
        "D Division\n",
        "\n",
        "M Multiplication\n",
        "\n",
        "A Addition\n",
        "\n",
        "S Subtraction"
      ],
      "metadata": {
        "id": "2bxpHzCOVZMy"
      }
    },
    {
      "cell_type": "code",
      "source": [
        "print(3*3-3+3/3)"
      ],
      "metadata": {
        "id": "rqw3mPBhVwsL",
        "outputId": "2fcf771a-8e86-4880-adf5-48ae0a70985c",
        "colab": {
          "base_uri": "https://localhost:8080/"
        }
      },
      "execution_count": null,
      "outputs": [
        {
          "output_type": "stream",
          "name": "stdout",
          "text": [
            "7.0\n"
          ]
        }
      ]
    },
    {
      "cell_type": "code",
      "source": [
        "print(round(15/8))#used to round off the value(rounding off is according to the nearest integer value from the actual decimal value)\n",
        "print(round(119/33,2))#used to round off the value upto two decimal places."
      ],
      "metadata": {
        "id": "8Q98AM4JWXHQ",
        "outputId": "7e9e5343-abd9-4529-d684-8035cb11a2df",
        "colab": {
          "base_uri": "https://localhost:8080/"
        }
      },
      "execution_count": null,
      "outputs": [
        {
          "output_type": "stream",
          "name": "stdout",
          "text": [
            "2\n",
            "3.61\n"
          ]
        }
      ]
    },
    {
      "cell_type": "code",
      "source": [
        "#f string is used to add a expression in a string\n",
        "score = 0\n",
        "height = 1.8\n",
        "isWinning = True\n",
        "print(f\"your score is {score},your height is {height},your winning is {isWinning}\")"
      ],
      "metadata": {
        "id": "NU8Bsx1OfD6m",
        "outputId": "19536d2a-1adc-4f8d-8b9c-347e128c5b00",
        "colab": {
          "base_uri": "https://localhost:8080/"
        }
      },
      "execution_count": null,
      "outputs": [
        {
          "output_type": "stream",
          "name": "stdout",
          "text": [
            "your score is 0,your height is 1.8,your winning is True\n"
          ]
        }
      ]
    },
    {
      "cell_type": "code",
      "source": [
        "print(\"Roller Coaster Ride\")\n",
        "height = int(input((\"what is your height?\")))\n",
        "if height>120:\n",
        "  print(\"you can ride the roller coaster\")\n",
        "else:\n",
        "  print(\"you can't ride the roller coaster\")"
      ],
      "metadata": {
        "colab": {
          "base_uri": "https://localhost:8080/"
        },
        "id": "kq8fqT5kVaiv",
        "outputId": "239a1a34-c0dc-4075-8ba2-32fab7f5dc6a"
      },
      "execution_count": null,
      "outputs": [
        {
          "output_type": "stream",
          "name": "stdout",
          "text": [
            "Roller Coaster Ride\n",
            "what is your height?12\n",
            "you can't ride the roller coaster\n"
          ]
        }
      ]
    },
    {
      "cell_type": "markdown",
      "source": [
        "Comparison Operators\n",
        "\n",
        "Greater than >\n",
        "\n",
        "Smaller than <\n",
        "\n",
        "Is Equal to ==\n",
        "\n",
        "Greater than or equal to >=\n",
        "\n",
        "Smaller than or equal to <=\n",
        "\n",
        "Not Equal to !="
      ],
      "metadata": {
        "id": "SCB6piH9WTVt"
      }
    },
    {
      "cell_type": "markdown",
      "source": [
        "Modulo Operator\n",
        "\n",
        "% gives us the value of remainder"
      ],
      "metadata": {
        "id": "98QottWcXY2g"
      }
    },
    {
      "cell_type": "code",
      "source": [
        "number = int(input(\"what is your number: \"))\n",
        "problem =int(number%2)\n",
        "if problem==0:\n",
        "  print(\"even number\")\n",
        "else :\n",
        "  print(\"odd number\")"
      ],
      "metadata": {
        "colab": {
          "base_uri": "https://localhost:8080/"
        },
        "id": "2fZiKULzXBHu",
        "outputId": "cc1cde54-58f6-4916-a101-1921e8bab566"
      },
      "execution_count": null,
      "outputs": [
        {
          "output_type": "stream",
          "name": "stdout",
          "text": [
            "what is your number: 7\n",
            "odd number\n"
          ]
        }
      ]
    },
    {
      "cell_type": "code",
      "source": [
        "print(\"Roller Coaster Ride\")\n",
        "height = int(input((\"what is your height?\")))\n",
        "if height>120:\n",
        "  print(\"you can ride the roller coaster\")\n",
        "  age = int(input(\"what is your age?\"))\n",
        "  if age<18:\n",
        "    print(\"fare price is: 8$\")\n",
        "  elif age==18:\n",
        "    print(\"fare price is: 10$\")\n",
        "  else:\n",
        "    print(\"fare price is: 12$\")\n",
        "else:\n",
        "  print(\"you can't ride the roller coaster\")"
      ],
      "metadata": {
        "colab": {
          "base_uri": "https://localhost:8080/"
        },
        "id": "PwrYWqLbanCY",
        "outputId": "c58baac9-f6d3-436f-d076-72528bf04268"
      },
      "execution_count": null,
      "outputs": [
        {
          "output_type": "stream",
          "name": "stdout",
          "text": [
            "Roller Coaster Ride\n",
            "what is your height?34566\n",
            "you can ride the roller coaster\n",
            "what is your age?23\n",
            "fare price is: 12$\n"
          ]
        }
      ]
    },
    {
      "cell_type": "markdown",
      "source": [
        "if elif else is used in the situation when we don't want to check all the conditions\n",
        "\n",
        "whereas in case of if if if all the statements are checked."
      ],
      "metadata": {
        "id": "zWPeiotUdLS5"
      }
    },
    {
      "cell_type": "code",
      "source": [
        "print(\"Roller Coaster Ride\")\n",
        "height = int(input((\"what is your height?\")))\n",
        "bill = int(0)  # Initialize bill as an integer\n",
        "if height > 120:\n",
        "  print(\"you can ride the roller coaster\")\n",
        "  age = int(input(\"what is your age?\"))\n",
        "  if age < 18:\n",
        "    bill = 8  # Assign integer values to bill\n",
        "  elif age == 18:\n",
        "    bill = 10\n",
        "  else:\n",
        "    bill = 12\n",
        "  do_you_want_photos = input(\"If you want photos type yes else no\")\n",
        "\n",
        "  if do_you_want_photos == \"yes\":\n",
        "    bill += 3\n",
        "    print(f\"Your final bill is: ${bill}\")\n",
        "\n",
        "  else :\n",
        "    bill += 0\n",
        "    print(f\"Your final bill is: ${bill}\")\n",
        "\n",
        "else:\n",
        "  print(\"you can't ride the roller coaster\")"
      ],
      "metadata": {
        "colab": {
          "base_uri": "https://localhost:8080/"
        },
        "id": "9wN1icOcdbsp",
        "outputId": "2dd65c65-3d79-42ea-e9a7-09dfd4d50534"
      },
      "execution_count": null,
      "outputs": [
        {
          "output_type": "stream",
          "name": "stdout",
          "text": [
            "Roller Coaster Ride\n",
            "what is your height?8889\n",
            "you can ride the roller coaster\n",
            "what is your age?88\n",
            "If you want photos type yes else noy\n",
            "Your final bill is: $12\n"
          ]
        }
      ]
    },
    {
      "cell_type": "code",
      "source": [
        "print(\"Pizza Order App\")\n",
        "pizza_type = input(\"Veg or Non-Veg Pizza?\") # Convert input to lowercase for easier comparison\n",
        "\n",
        "bill = 0 # Initialize bill\n",
        "\n",
        "if pizza_type == \"veg\":\n",
        "  size_of_pizza = input(f\"Small:4$ , Medium:6$ , Large:8$\")\n",
        "  if size_of_pizza == \"small\":\n",
        "    bill = 4\n",
        "  elif size_of_pizza == \"medium\":\n",
        "    bill = 6\n",
        "  else: # Assuming large is the only other option\n",
        "    bill = 8\n",
        "  extra_topping_cost = 3 # Cost for veg extra topping\n",
        "\n",
        "else: # Assuming non-veg is the only other option\n",
        "  size_of_pizza = input(f\"Small:6$ , Medium:8$ , Large:10$\").lower()\n",
        "  if size_of_pizza == \"small\":\n",
        "    bill = 6\n",
        "  elif size_of_pizza == \"medium\":\n",
        "    bill = 8\n",
        "  else: # Assuming large is the only other option\n",
        "    bill = 10\n",
        "  extra_topping_cost = 5 # Cost for non-veg extra topping\n",
        "\n",
        "extra_topping = input(\"if extra topping needed type yes else no: \")\n",
        "if extra_topping == \"yes\":\n",
        "  bill += extra_topping_cost\n",
        "\n",
        "print(f\"Your final bill is ${bill}\")"
      ],
      "metadata": {
        "colab": {
          "base_uri": "https://localhost:8080/"
        },
        "id": "btQZhlycjBL5",
        "outputId": "c943b64e-1518-4712-d66d-2653bcacde9b"
      },
      "execution_count": null,
      "outputs": [
        {
          "output_type": "stream",
          "name": "stdout",
          "text": [
            "Pizza Order App\n",
            "Veg or Non-Veg Pizza?veg\n",
            "Small:4$ , Medium:6$ , Large:8$large\n",
            "if extra topping needed type yes else noyes\n",
            "Your final bill is $11\n"
          ]
        }
      ]
    },
    {
      "cell_type": "markdown",
      "source": [
        "Logical Operators:\n",
        "\n",
        "and gives output true if both conditions are true\n",
        "\n",
        "or gives output true even if one of the condition is true"
      ],
      "metadata": {
        "id": "RQv6-IdNqls2"
      }
    },
    {
      "cell_type": "code",
      "source": [
        "#Loop is the method performing a task again and again until we get our desired output.\n",
        "fruits = [\"apple\",\"banana\",\"cherry\"]\n",
        "for fruit in fruits:#will take fruit as a variable in list fruits and print all\n",
        "  print(fruit)#the fruits individually and terminate until all the indexes are indexed in the list.\n",
        "  print(fruit + \" pie \")\n",
        "  print(fruits)#this line will also run multiple times no matter the result will come same as the loop is running several times.\n",
        "\n",
        "print(fruits)"
      ],
      "metadata": {
        "id": "4tVl75KNqkO-",
        "colab": {
          "base_uri": "https://localhost:8080/"
        },
        "outputId": "28dfa5de-1f92-4148-bc50-fa2433262c2c"
      },
      "execution_count": null,
      "outputs": [
        {
          "output_type": "stream",
          "name": "stdout",
          "text": [
            "apple\n",
            "apple pie \n",
            "['apple', 'banana', 'cherry']\n",
            "banana\n",
            "banana pie \n",
            "['apple', 'banana', 'cherry']\n",
            "cherry\n",
            "cherry pie \n",
            "['apple', 'banana', 'cherry']\n",
            "['apple', 'banana', 'cherry']\n"
          ]
        }
      ]
    },
    {
      "cell_type": "code",
      "source": [
        "student_scores = [120,233,45,45,56,6,7,654]\n",
        "total_score = sum(student_scores)\n",
        "print(total_score)"
      ],
      "metadata": {
        "colab": {
          "base_uri": "https://localhost:8080/"
        },
        "id": "RUoh9gC8PXk3",
        "outputId": "47f6206f-d785-4637-ee8e-95bf0e7dc2c4"
      },
      "execution_count": null,
      "outputs": [
        {
          "output_type": "stream",
          "name": "stdout",
          "text": [
            "1166\n"
          ]
        }
      ]
    },
    {
      "cell_type": "code",
      "source": [
        "student_score = [120,233,45,45,56,7,6,654]\n",
        "total_score = 0\n",
        "for score in student_score: # Use a different variable name for the loop\n",
        "  total_score += score # Add the individual score to the total\n",
        "print(total_score)"
      ],
      "metadata": {
        "colab": {
          "base_uri": "https://localhost:8080/"
        },
        "id": "PVKPSV-aQWJ4",
        "outputId": "3bbc9ff4-61f4-4c6d-ccda-fcbcaea626a9"
      },
      "execution_count": null,
      "outputs": [
        {
          "output_type": "stream",
          "name": "stdout",
          "text": [
            "1166\n"
          ]
        }
      ]
    },
    {
      "cell_type": "code",
      "source": [
        "student_score = [120,233,45,45,56,7,6,654]\n",
        "print(max(student_score))#used for finding max value in a list"
      ],
      "metadata": {
        "id": "wp9qDEg7RWy0",
        "outputId": "27374d93-2d93-4f88-f05b-da03029f4569",
        "colab": {
          "base_uri": "https://localhost:8080/"
        }
      },
      "execution_count": null,
      "outputs": [
        {
          "output_type": "stream",
          "name": "stdout",
          "text": [
            "654\n"
          ]
        }
      ]
    },
    {
      "cell_type": "code",
      "source": [
        "student_score = [120,233,45,45,56,7,6,654]\n",
        "max_score = int(max(student_score))\n",
        "print(max_score)\n",
        "for value in student_score:\n",
        "  if value>=max_score:\n",
        "    print(\"Greatest number found\")\n",
        "\n"
      ],
      "metadata": {
        "id": "2uv8UbT0RkoJ",
        "outputId": "9820283b-ff26-499f-8c49-a6c6065661b3",
        "colab": {
          "base_uri": "https://localhost:8080/"
        }
      },
      "execution_count": null,
      "outputs": [
        {
          "output_type": "stream",
          "name": "stdout",
          "text": [
            "654\n",
            "Greatest number found\n"
          ]
        }
      ]
    },
    {
      "cell_type": "markdown",
      "source": [
        "**Range function in loop is used to repeat a task several times in a desired range**\n",
        "\n",
        "for number in range(a,b):\n",
        "\n",
        "print(number)"
      ],
      "metadata": {
        "id": "JhUBCLCxUGs9"
      }
    },
    {
      "cell_type": "code",
      "source": [
        "for number in range(1,11):#range includes a but not b i.e.1 to 10 will be printed\n",
        "  print(number)"
      ],
      "metadata": {
        "id": "WZVzqrzuUP-6",
        "outputId": "4adbd1e0-5ee6-4db8-e676-489e29e4a37e",
        "colab": {
          "base_uri": "https://localhost:8080/"
        }
      },
      "execution_count": null,
      "outputs": [
        {
          "output_type": "stream",
          "name": "stdout",
          "text": [
            "1\n",
            "2\n",
            "3\n",
            "4\n",
            "5\n",
            "6\n",
            "7\n",
            "8\n",
            "9\n",
            "10\n"
          ]
        }
      ]
    },
    {
      "cell_type": "code",
      "source": [
        "for number in range(1,11,2):#1,11 are the range and 2 means that after picking the first number pick the second number which is on 2nd position from\n",
        "  print(number)#the first number\n",
        "#matlab agar 2 likha hai toh ek ek chodh ke lena hai\n",
        "total = 0\n",
        "for number in range(1,101):\n",
        "  print(number)\n",
        "  total += number\n",
        "print(total)"
      ],
      "metadata": {
        "id": "lj1eJAA-VKOz",
        "outputId": "1e0a84e9-3880-4038-9885-94d6b313e88e",
        "colab": {
          "base_uri": "https://localhost:8080/"
        }
      },
      "execution_count": null,
      "outputs": [
        {
          "output_type": "stream",
          "name": "stdout",
          "text": [
            "1\n",
            "3\n",
            "5\n",
            "7\n",
            "9\n",
            "1\n",
            "2\n",
            "3\n",
            "4\n",
            "5\n",
            "6\n",
            "7\n",
            "8\n",
            "9\n",
            "10\n",
            "11\n",
            "12\n",
            "13\n",
            "14\n",
            "15\n",
            "16\n",
            "17\n",
            "18\n",
            "19\n",
            "20\n",
            "21\n",
            "22\n",
            "23\n",
            "24\n",
            "25\n",
            "26\n",
            "27\n",
            "28\n",
            "29\n",
            "30\n",
            "31\n",
            "32\n",
            "33\n",
            "34\n",
            "35\n",
            "36\n",
            "37\n",
            "38\n",
            "39\n",
            "40\n",
            "41\n",
            "42\n",
            "43\n",
            "44\n",
            "45\n",
            "46\n",
            "47\n",
            "48\n",
            "49\n",
            "50\n",
            "51\n",
            "52\n",
            "53\n",
            "54\n",
            "55\n",
            "56\n",
            "57\n",
            "58\n",
            "59\n",
            "60\n",
            "61\n",
            "62\n",
            "63\n",
            "64\n",
            "65\n",
            "66\n",
            "67\n",
            "68\n",
            "69\n",
            "70\n",
            "71\n",
            "72\n",
            "73\n",
            "74\n",
            "75\n",
            "76\n",
            "77\n",
            "78\n",
            "79\n",
            "80\n",
            "81\n",
            "82\n",
            "83\n",
            "84\n",
            "85\n",
            "86\n",
            "87\n",
            "88\n",
            "89\n",
            "90\n",
            "91\n",
            "92\n",
            "93\n",
            "94\n",
            "95\n",
            "96\n",
            "97\n",
            "98\n",
            "99\n",
            "100\n",
            "5050\n"
          ]
        }
      ]
    },
    {
      "cell_type": "markdown",
      "source": [
        "**FOR LOOP is used to perform a task again and again until the result is achieved or it has reached the range of performing task.**\n",
        "\n",
        "**SYNTAX : for name in range(0,4):  4 is not included**\n",
        "             \n",
        "             OR\n",
        "\n",
        "**SYNTAX : for fruit in fruits:**             \n",
        "\n",
        "**WHILE LOOP is used to perform a task again and again until the condition becomes false**\n",
        "\n",
        "**SYNTAX : while condition:**\n",
        "       "
      ],
      "metadata": {
        "id": "Y1dcIZmvs4wC"
      }
    },
    {
      "cell_type": "code",
      "source": [
        "from logging import PlaceHolder\n",
        "print(\"HANGMAN\")\n",
        "\n",
        "word_list = [\"python\",\"hangman\",\"challenge\",\"developer\",\"function\",\"variable\",\"keyboard\",\"condition\",\"iteration\",\"syntax\",\n",
        "\"string\",\"integer\",\"loop\",\"boolean\",\"exception\",\"dictionary\",\"module\",\"parameter\",\"argument\",\"recursion\"]\n",
        "\n",
        "import random\n",
        "chosen_word = random.choice(word_list).lower()\n",
        "print(chosen_word)\n",
        "\n",
        "length_of_word = len(chosen_word)\n",
        "print(f\"The word has {length_of_word} letters\")\n",
        "\n",
        "guess = input(\"Guess a letter:  \").lower()\n",
        "\n",
        "display = \"\"\n",
        "\n",
        "for letter in chosen_word:\n",
        "  if letter == guess:\n",
        "    display += letter\n",
        "  else:\n",
        "    display += \"_ \"\n",
        "print(display)\n",
        "\n",
        "placeholder = \"\"\n"
      ],
      "metadata": {
        "id": "Ud2sNBWlYgwz",
        "outputId": "50e709fb-ae97-4bba-82b0-760a5a9569c2",
        "colab": {
          "base_uri": "https://localhost:8080/"
        }
      },
      "execution_count": 35,
      "outputs": [
        {
          "output_type": "stream",
          "name": "stdout",
          "text": [
            "HANGMAN\n",
            "boolean\n",
            "The word has 7 letters\n",
            "Guess a letter:  e\n",
            "_ _ _ _ e_ _ \n",
            "_ _ _ _ _ _ _ _ \n"
          ]
        }
      ]
    }
  ]
}